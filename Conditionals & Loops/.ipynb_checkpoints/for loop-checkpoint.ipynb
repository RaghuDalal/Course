{
 "cells": [
  {
   "cell_type": "code",
   "execution_count": 2,
   "metadata": {},
   "outputs": [
    {
     "name": "stdout",
     "output_type": "stream",
     "text": [
      "0 1 2 3 4 "
     ]
    }
   ],
   "source": [
    "for i in range(5):\n",
    "    print(i,end= ' ')"
   ]
  },
  {
   "cell_type": "code",
   "execution_count": 4,
   "metadata": {},
   "outputs": [
    {
     "name": "stdout",
     "output_type": "stream",
     "text": [
      "1\n",
      "30\n",
      "3\n",
      "6\n",
      "9\n",
      "12\n",
      "15\n",
      "18\n",
      "21\n",
      "24\n",
      "27\n",
      "30\n"
     ]
    }
   ],
   "source": [
    "a = int(input())\n",
    "b = int(input())\n",
    "for i in range (a , b+1 , 1):\n",
    "    if i % 3==0:\n",
    "        print(i)"
   ]
  },
  {
   "cell_type": "markdown",
   "metadata": {},
   "source": [
    "### Prime Number"
   ]
  },
  {
   "cell_type": "code",
   "execution_count": 83,
   "metadata": {},
   "outputs": [
    {
     "name": "stdout",
     "output_type": "stream",
     "text": [
      "4\n",
      "   1\n",
      "  232\n",
      " 34543\n",
      "4567654\n"
     ]
    }
   ],
   "source": [
    "n = int(input())\n",
    "for i in range(1,n+1,1):\n",
    "    for s in range(n-i):\n",
    "        print(\" \",end =\"\")\n",
    "    for j in range(i,2*i,1):\n",
    "        print(j,end=\"\")\n",
    "    for j in range(2*i-2,i-1,-1):\n",
    "        print(j,end=\"\")\n",
    "    print()"
   ]
  },
  {
   "cell_type": "code",
   "execution_count": null,
   "metadata": {},
   "outputs": [],
   "source": []
  },
  {
   "cell_type": "code",
   "execution_count": 68,
   "metadata": {},
   "outputs": [
    {
     "name": "stdout",
     "output_type": "stream",
     "text": [
      "6\n",
      "1          1\n",
      "12        21\n",
      "123      321\n",
      "1234    4321\n",
      "12345  54321\n",
      "123456654321\n"
     ]
    }
   ],
   "source": [
    "n = int(input())\n",
    "for i in range(1,n+1,1):\n",
    "    for j in range (1,i+1,1):\n",
    "        print(j,end=\"\")\n",
    "    for s in range((2*n)-2*i,0,-1):\n",
    "        print(\" \",end=\"\")\n",
    "    for n2 in range (i,0,-1):\n",
    "        print(n2,end=\"\")\n",
    "\n",
    "    print()"
   ]
  },
  {
   "cell_type": "code",
   "execution_count": 70,
   "metadata": {},
   "outputs": [
    {
     "name": "stdout",
     "output_type": "stream",
     "text": [
      "7\n",
      "*000000*000000*\n",
      "0*00000*00000*0\n",
      "00*0000*0000*00\n",
      "000*000*000*000\n",
      "0000*00*00*0000\n",
      "00000*0*0*00000\n",
      "000000***000000\n"
     ]
    }
   ],
   "source": [
    "n = int(input())\n",
    "for i in range(1,n+1,1):\n",
    "    for j in range(1,2*n+2,1):\n",
    "        if i==j or i+j==2*n+2 or j == n+1:\n",
    "            print(\"*\",end=\"\")\n",
    "        else:\n",
    "            print(\"0\",end=\"\")\n",
    "    print()\n",
    "\n"
   ]
  },
  {
   "cell_type": "code",
   "execution_count": 77,
   "metadata": {
    "scrolled": true
   },
   "outputs": [
    {
     "name": "stdout",
     "output_type": "stream",
     "text": [
      "7\n",
      "* \n",
      " * * \n",
      "  * * * \n",
      "   * * * * \n",
      "  * * * \n",
      " * * \n",
      "* \n"
     ]
    }
   ],
   "source": [
    "n = int(input())\n",
    "i = 0\n",
    "while(i<n):\n",
    "    k=1\n",
    "    j=0\n",
    "    if(i<n//2):\n",
    "        while(k<=i):\n",
    "            print(\" \",end=\"\")\n",
    "            k=k+1\n",
    "        while(j<=i):\n",
    "            print(\"* \",end=\"\")\n",
    "            j=j+1\n",
    "    else:\n",
    "        k=i\n",
    "        j=i\n",
    "        while(k<n-1):\n",
    "            print(\" \",end=\"\")\n",
    "            k=k+1\n",
    "        while(j<=n-1):\n",
    "            print(\"* \",end=\"\")\n",
    "            j=j+1\n",
    "    i=i+1\n",
    "    print()"
   ]
  },
  {
   "cell_type": "code",
   "execution_count": 95,
   "metadata": {},
   "outputs": [
    {
     "name": "stdout",
     "output_type": "stream",
     "text": [
      "5\n",
      "    1\n",
      "   212\n",
      "  32123\n",
      " 4321234\n",
      "543212345\n"
     ]
    }
   ],
   "source": [
    "n = int(input())\n",
    "for i in range(1,n+1,1):\n",
    "    for s in range(n-i):\n",
    "        print(\" \",end =\"\")\n",
    "    for j in range(i,0,-1):\n",
    "        print(j,end=\"\")\n",
    "    for j in range(2,i+1,1):\n",
    "        if i!=1:\n",
    "             print(j,end=\"\")\n",
    "    print()"
   ]
  },
  {
   "cell_type": "code",
   "execution_count": 101,
   "metadata": {},
   "outputs": [
    {
     "name": "stdout",
     "output_type": "stream",
     "text": [
      "5\n",
      "11111\n",
      "0000\n",
      "111\n",
      "00\n",
      "1\n"
     ]
    }
   ],
   "source": [
    "n=int(input())\n",
    "for i in range(1,n+1,1):\n",
    "    for j in range(n-i+2,1,-1):\n",
    "        if i % 2==0:\n",
    "            print(\"0\",end=\"\")\n",
    "        else:\n",
    "            print(\"1\",end=\"\")\n",
    "    print()"
   ]
  },
  {
   "cell_type": "code",
   "execution_count": 6,
   "metadata": {},
   "outputs": [
    {
     "name": "stdout",
     "output_type": "stream",
     "text": [
      "4\n",
      "1 2 3 4 \n",
      "9 10 11 12 \n",
      "13 14 15 16 \n",
      "5 6 7 8 \n"
     ]
    }
   ],
   "source": [
    "n = int(input())\n",
    "z=1\n",
    "for i in range (1,n+1,1):\n",
    "    toprint=(z-1)*n+1\n",
    "    for j in range (toprint,toprint+n,1):\n",
    "        print(j,end=\" \")\n",
    "    if i<int((n+1)/2):\n",
    "        z=z+2\n",
    "    elif i==int((n+1)/2):\n",
    "        \n",
    "        if n%2==0:\n",
    "            z = z+1\n",
    "        else:\n",
    "            z = z-1\n",
    "\n",
    "    else:\n",
    "        z=z-2\n",
    "    print()"
   ]
  },
  {
   "cell_type": "code",
   "execution_count": 2,
   "metadata": {},
   "outputs": [
    {
     "name": "stdout",
     "output_type": "stream",
     "text": [
      "4\n",
      "4 4 4 4 4 4 4 \n",
      "4 3 3 3 3 3 3 \n",
      "4 3 2 2 2 2 3 \n",
      "4 3 2 1 1 2 3 \n",
      "4 3 2 2 2 2 3 \n",
      "4 3 3 3 3 3 3 \n",
      "4 4 4 4 4 4 4 \n"
     ]
    }
   ],
   "source": [
    "n = int(input())\n",
    "toprint=n\n",
    "for i in range (1,2*n,1):\n",
    "    for j in range(1,2*n,1):\n",
    "        print(toprint,end=\" \")\n",
    "        if i>j and i+j<2*n:\n",
    "            toprint=toprint-1\n",
    "        elif (j>i and i+j>2*n):\n",
    "            toprint=toprint+1\n",
    "        \n",
    "    print()\n",
    "            "
   ]
  },
  {
   "cell_type": "code",
   "execution_count": 4,
   "metadata": {},
   "outputs": [
    {
     "name": "stdout",
     "output_type": "stream",
     "text": [
      "4\n",
      "4444444\n",
      "4333334\n",
      "4322234\n",
      "4321234\n",
      "4322234\n",
      "4333334\n",
      "4444444\n"
     ]
    }
   ],
   "source": [
    "n = int(input())\n",
    "i = 1-n\n",
    "while i<n:\n",
    "    j=1-n\n",
    "    while j<n:\n",
    "        v=1+max(abs(i),abs(j))\n",
    "        print(v,end=\"\")\n",
    "        j=j+1\n",
    "    print()\n",
    "    i=i+1"
   ]
  },
  {
   "cell_type": "code",
   "execution_count": 8,
   "metadata": {},
   "outputs": [
    {
     "name": "stdout",
     "output_type": "stream",
     "text": [
      "5\n",
      "12345\n",
      " 2345\n",
      "  345\n",
      "   45\n",
      "    5\n",
      "   45\n",
      "  345\n",
      " 2345\n",
      "12345\n"
     ]
    }
   ],
   "source": [
    "n = int(input())\n",
    "for i in range (1,2*n,1):\n",
    "    for j in range(1,n+1,1):\n",
    "        if i > j and i + j < 2*n:\n",
    "            print(\" \", end=\"\")\n",
    "        else: \n",
    "            print(j,end=\"\")\n",
    "    print()"
   ]
  }
 ],
 "metadata": {
  "kernelspec": {
   "display_name": "Python 3",
   "language": "python",
   "name": "python3"
  },
  "language_info": {
   "codemirror_mode": {
    "name": "ipython",
    "version": 3
   },
   "file_extension": ".py",
   "mimetype": "text/x-python",
   "name": "python",
   "nbconvert_exporter": "python",
   "pygments_lexer": "ipython3",
   "version": "3.7.4"
  }
 },
 "nbformat": 4,
 "nbformat_minor": 2
}
