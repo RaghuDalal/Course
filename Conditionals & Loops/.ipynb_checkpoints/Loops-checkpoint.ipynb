{
 "cells": [
  {
   "cell_type": "markdown",
   "metadata": {},
   "source": [
    "### While Loop"
   ]
  },
  {
   "cell_type": "code",
   "execution_count": null,
   "metadata": {},
   "outputs": [],
   "source": [
    "n = int(input())\n",
    "count = 1\n",
    "while count <= n:\n",
    "    print(count)\n",
    "    count = count + 1"
   ]
  },
  {
   "cell_type": "code",
   "execution_count": 6,
   "metadata": {},
   "outputs": [
    {
     "name": "stdout",
     "output_type": "stream",
     "text": [
      "6\n",
      "12\n"
     ]
    }
   ],
   "source": [
    "n = int(input())\n",
    "\n",
    "count = 2\n",
    "sum = 0\n",
    "\n",
    "while count <= n:\n",
    "    \n",
    "    sum = sum + count\n",
    "    \n",
    "    count = count + 2\n",
    "    \n",
    "print(sum)\n"
   ]
  },
  {
   "cell_type": "code",
   "execution_count": 10,
   "metadata": {},
   "outputs": [
    {
     "name": "stdout",
     "output_type": "stream",
     "text": [
      "0\n",
      "1\n",
      "2\n",
      "3\n",
      "4\n",
      "5\n",
      "6\n",
      "7\n",
      "8\n",
      "9\n"
     ]
    }
   ],
   "source": [
    "i=0\n",
    "while i<10:\n",
    "    print(i)\n",
    "    i= i+1"
   ]
  },
  {
   "cell_type": "markdown",
   "metadata": {},
   "source": [
    "### Calculator"
   ]
  },
  {
   "cell_type": "code",
   "execution_count": null,
   "metadata": {
    "scrolled": true
   },
   "outputs": [
    {
     "name": "stdout",
     "output_type": "stream",
     "text": [
      "3\n",
      "1\n",
      "2\n",
      "2\n"
     ]
    }
   ],
   "source": [
    "while (True):\n",
    "    ch=int(input())\n",
    "    if(ch==1):\n",
    "        a=int(input())\n",
    "        b=int(input())\n",
    "        c=a+b\n",
    "        print(c)\n",
    "    elif(ch==2):\n",
    "        a=int(input())\n",
    "        b=int(input())\n",
    "        c=a-b\n",
    "        print(c)\n",
    "    elif(ch==3):\n",
    "        a=int(input())\n",
    "        b=int(input())\n",
    "        c=a*b\n",
    "        print(c)\n",
    "    elif(ch==4):\n",
    "        a=int(input())\n",
    "        b=int(input())\n",
    "        c=a//b\n",
    "        print(c)\n",
    "    elif(ch==5):\n",
    "        a=int(input())\n",
    "        b=int(input())\n",
    "        c=a%b\n",
    "        print(c)\n",
    "    elif(ch==6):\n",
    "        break\n",
    "    else:\n",
    "        print(\"Invalid Operation\")"
   ]
  },
  {
   "cell_type": "markdown",
   "metadata": {},
   "source": [
    "### Temperature Conversion"
   ]
  },
  {
   "cell_type": "code",
   "execution_count": 6,
   "metadata": {
    "scrolled": false
   },
   "outputs": [
    {
     "name": "stdout",
     "output_type": "stream",
     "text": [
      "0\n",
      "100\n",
      "20\n",
      "0\t-17\n",
      "20\t-6\n",
      "40\t4\n",
      "60\t15\n",
      "80\t26\n",
      "100\t37\n"
     ]
    }
   ],
   "source": [
    "fh1 = int(input())\n",
    "fh2 = int(input())\n",
    "step = int(input())\n",
    "\n",
    "cth = fh1\n",
    "\n",
    "while cth <= fh2:\n",
    "    c = int((cth - 32) * 5 / 9)\n",
    "    print(str(cth) + \"\\t\" + str(c))\n",
    "    cth = cth + step"
   ]
  },
  {
   "cell_type": "code",
   "execution_count": 7,
   "metadata": {},
   "outputs": [
    {
     "name": "stdout",
     "output_type": "stream",
     "text": [
      "1122\n",
      "4  2\n"
     ]
    }
   ],
   "source": [
    "n = int(input())\n",
    "evensum = 0\n",
    "oddsum = 0\n",
    "while (n>0):\n",
    "    d = n % 10\n",
    "    if d % 2==0:\n",
    "        evensum = evensum + d  \n",
    "    else:\n",
    "        oddsum = oddsum + d\n",
    "    n = n//10\n",
    "print (evensum,\"\",oddsum)"
   ]
  },
  {
   "cell_type": "code",
   "execution_count": 10,
   "metadata": {},
   "outputs": [
    {
     "name": "stdout",
     "output_type": "stream",
     "text": [
      "322\n",
      "false\n"
     ]
    }
   ],
   "source": [
    "n = int(input())\n",
    "nclone = n\n",
    "rev = 0\n",
    "while n > 0:\n",
    "    l = n % 10\n",
    "    n = n//10\n",
    "    rev = rev * 10 + l\n",
    "if nclone == rev:\n",
    "    print(\"true\")\n",
    "else :\n",
    "    print(\"false\")"
   ]
  },
  {
   "cell_type": "code",
   "execution_count": 17,
   "metadata": {},
   "outputs": [
    {
     "name": "stdout",
     "output_type": "stream",
     "text": [
      "2\n",
      "1\n"
     ]
    }
   ],
   "source": [
    "n = int(input())\n",
    "counter = 1\n",
    "first = 1\n",
    "second = 1\n",
    "while counter < n:\n",
    "    \n",
    "    temp = first + second\n",
    "    first = second\n",
    "    second = temp\n",
    "    counter = counter + 1\n",
    "print(first)"
   ]
  }
 ],
 "metadata": {
  "kernelspec": {
   "display_name": "Python 3",
   "language": "python",
   "name": "python3"
  },
  "language_info": {
   "codemirror_mode": {
    "name": "ipython",
    "version": 3
   },
   "file_extension": ".py",
   "mimetype": "text/x-python",
   "name": "python",
   "nbconvert_exporter": "python",
   "pygments_lexer": "ipython3",
   "version": "3.7.4"
  }
 },
 "nbformat": 4,
 "nbformat_minor": 2
}
