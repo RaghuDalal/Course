{
 "cells": [
  {
   "cell_type": "markdown",
   "metadata": {},
   "source": [
    "### Inverted Triangle\n",
    "\n"
   ]
  },
  {
   "cell_type": "code",
   "execution_count": 8,
   "metadata": {},
   "outputs": [
    {
     "name": "stdout",
     "output_type": "stream",
     "text": [
      "5\n",
      "*****\n",
      "****\n",
      "***\n",
      "**\n",
      "*\n"
     ]
    }
   ],
   "source": [
    "n = int(input())\n",
    "i = 1\n",
    "while i <= n:\n",
    "    j = 1\n",
    "    while j <= n - i + 1:\n",
    "        print(\"*\" , end = \"\")\n",
    "        j = j+1\n",
    "    print()\n",
    "    i = i + 1"
   ]
  },
  {
   "cell_type": "code",
   "execution_count": 63,
   "metadata": {},
   "outputs": [
    {
     "name": "stdout",
     "output_type": "stream",
     "text": [
      "4\n",
      "4444\n",
      "333\n",
      "22\n",
      "1\n"
     ]
    }
   ],
   "source": [
    "n = int(input())\n",
    "i = 1\n",
    "while i <= n:\n",
    "    j = 1\n",
    "    while j <= n - i + 1:\n",
    "        print(n-i+1 , end = \"\")\n",
    "        j = j+1\n",
    "    print()\n",
    "    i = i + 1"
   ]
  },
  {
   "cell_type": "raw",
   "metadata": {},
   "source": [
    "   *\n",
    "  **\n",
    " ***\n",
    "****"
   ]
  },
  {
   "cell_type": "code",
   "execution_count": 65,
   "metadata": {},
   "outputs": [
    {
     "name": "stdout",
     "output_type": "stream",
     "text": [
      "4\n",
      "   *\n",
      "  **\n",
      " ***\n",
      "****\n"
     ]
    }
   ],
   "source": [
    "n = int(input())\n",
    "i = 1\n",
    "while i <= n:\n",
    "    s = 1\n",
    "    while s <= n-i:\n",
    "        print(\" \" , end = \"\")\n",
    "        s = s + 1\n",
    "    star = 1\n",
    "    while star <= i:\n",
    "        print(\"*\" , end = \"\")\n",
    "        star = star + 1\n",
    "    print()\n",
    "    i = i+1"
   ]
  },
  {
   "cell_type": "code",
   "execution_count": 69,
   "metadata": {},
   "outputs": [
    {
     "name": "stdout",
     "output_type": "stream",
     "text": [
      "4\n",
      "   1\n",
      "  121\n",
      " 12321\n",
      "1234321\n"
     ]
    }
   ],
   "source": [
    "n = int(input())\n",
    "i = 1\n",
    "while i <= n:\n",
    "    s = 1\n",
    "    while s <= n-i:\n",
    "        print(\" \",end=\"\")\n",
    "        s = s + 1\n",
    "    j = 1\n",
    "    while j <= i:\n",
    "        print(j,end =\"\")\n",
    "        j = j+1\n",
    "    s2 = i - 1\n",
    "    while s2>=1:\n",
    "        print(s2,end=\"\")\n",
    "        s2=s2-1\n",
    "    print()\n",
    "    i = i+1"
   ]
  },
  {
   "cell_type": "code",
   "execution_count": 72,
   "metadata": {},
   "outputs": [
    {
     "name": "stdout",
     "output_type": "stream",
     "text": [
      "4\n",
      "   *\n",
      "  ***\n",
      " *****\n",
      "*******\n"
     ]
    }
   ],
   "source": [
    "n = int(input())\n",
    "i = 1\n",
    "while i <= n:\n",
    "    s = 1\n",
    "    while s <= n-i:\n",
    "        print(\" \" , end = \"\")\n",
    "        s = s + 1\n",
    "    star = 1\n",
    "    while star <= i:\n",
    "        print(\"*\" , end = \"\")\n",
    "        star = star + 1\n",
    "    star2=i-1\n",
    "    while star2>=1:\n",
    "        print(\"*\",end=\"\")\n",
    "        star2 = star2-1\n",
    "    print()\n",
    "    i = i+1"
   ]
  },
  {
   "cell_type": "code",
   "execution_count": 95,
   "metadata": {
    "scrolled": true
   },
   "outputs": [
    {
     "name": "stdout",
     "output_type": "stream",
     "text": [
      "5\n",
      "    1\n",
      "   232\n",
      "  34543\n",
      " 4567654\n",
      "567898765\n"
     ]
    }
   ],
   "source": [
    "n = int(input())\n",
    "i = 1\n",
    "while i <= n:\n",
    "    s = 1\n",
    "    while s<=n-i:\n",
    "        print(\" \",end=\"\")\n",
    "        s=s+1\n",
    "    j = 1\n",
    "    p = i\n",
    "    while j <= i:\n",
    "        print(p , end = \"\")\n",
    "        j = j + 1\n",
    "        p = p + 1\n",
    "    n2=2*(i-1)\n",
    "    while n2>=i:\n",
    "        if i>1:  \n",
    "            print(n2,end=\"\")\n",
    "        n2=n2-1\n",
    "    print()\n",
    "    i = i + 1"
   ]
  },
  {
   "cell_type": "code",
   "execution_count": null,
   "metadata": {},
   "outputs": [],
   "source": [
    "n = int(input())\n",
    "i = 1\n",
    "n1 = (n+1)/2\n",
    "while i <= n1:\n",
    "    space = 1\n",
    "    while space <=n1-i:\n",
    "        print(\" \",end=\"\")\n",
    "        space = space+1\n",
    "    star = 1\n",
    "    while star <= (2*i-1):\n",
    "        print(\"*\",end=\"\")\n",
    "        star = star+1\n",
    "    print()\n",
    "    i = i+1\n",
    "i=1\n",
    "n2=n/2\n",
    "while i<=n2:\n",
    "    space2=1\n",
    "    while space2 <= i:\n",
    "        print(\" \",end=\" \")\n",
    "        space2 = space2+1\n",
    "    star2=n-2*i\n",
    "    while star2 > 0:\n",
    "        print(\"*\",end=\" \")\n",
    "        star2=star2-1\n",
    "    print()\n",
    "    i=i+1"
   ]
  }
 ],
 "metadata": {
  "kernelspec": {
   "display_name": "Python 3",
   "language": "python",
   "name": "python3"
  },
  "language_info": {
   "codemirror_mode": {
    "name": "ipython",
    "version": 3
   },
   "file_extension": ".py",
   "mimetype": "text/x-python",
   "name": "python",
   "nbconvert_exporter": "python",
   "pygments_lexer": "ipython3",
   "version": "3.7.4"
  }
 },
 "nbformat": 4,
 "nbformat_minor": 2
}
