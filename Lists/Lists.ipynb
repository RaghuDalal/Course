{
 "cells": [
  {
   "cell_type": "code",
   "execution_count": 1,
   "metadata": {},
   "outputs": [],
   "source": [
    "li = [1,4,6,8]"
   ]
  },
  {
   "cell_type": "code",
   "execution_count": 3,
   "metadata": {},
   "outputs": [
    {
     "data": {
      "text/plain": [
       "1"
      ]
     },
     "execution_count": 3,
     "metadata": {},
     "output_type": "execute_result"
    }
   ],
   "source": [
    "li[0]"
   ]
  },
  {
   "cell_type": "code",
   "execution_count": 4,
   "metadata": {},
   "outputs": [],
   "source": [
    "li[0]=\"raghu\""
   ]
  },
  {
   "cell_type": "code",
   "execution_count": 5,
   "metadata": {},
   "outputs": [
    {
     "data": {
      "text/plain": [
       "['raghu', 4, 6, 8]"
      ]
     },
     "execution_count": 5,
     "metadata": {},
     "output_type": "execute_result"
    }
   ],
   "source": [
    "li"
   ]
  },
  {
   "cell_type": "code",
   "execution_count": 8,
   "metadata": {},
   "outputs": [],
   "source": [
    "li.append(\"monu\")"
   ]
  },
  {
   "cell_type": "code",
   "execution_count": 9,
   "metadata": {},
   "outputs": [
    {
     "data": {
      "text/plain": [
       "['raghu', 4, 6, 8, 'monu']"
      ]
     },
     "execution_count": 9,
     "metadata": {},
     "output_type": "execute_result"
    }
   ],
   "source": [
    "li"
   ]
  },
  {
   "cell_type": "code",
   "execution_count": 10,
   "metadata": {},
   "outputs": [],
   "source": [
    "li.insert(2,\"loda\")"
   ]
  },
  {
   "cell_type": "code",
   "execution_count": 11,
   "metadata": {},
   "outputs": [
    {
     "data": {
      "text/plain": [
       "['raghu', 4, 'loda', 6, 8, 'monu']"
      ]
     },
     "execution_count": 11,
     "metadata": {},
     "output_type": "execute_result"
    }
   ],
   "source": [
    "li"
   ]
  },
  {
   "cell_type": "code",
   "execution_count": 13,
   "metadata": {},
   "outputs": [],
   "source": [
    "li.extend([3,67,12])"
   ]
  },
  {
   "cell_type": "code",
   "execution_count": 14,
   "metadata": {},
   "outputs": [
    {
     "data": {
      "text/plain": [
       "['raghu', 4, 'loda', 6, 8, 'monu', 3, 67, 12]"
      ]
     },
     "execution_count": 14,
     "metadata": {},
     "output_type": "execute_result"
    }
   ],
   "source": [
    "li"
   ]
  },
  {
   "cell_type": "code",
   "execution_count": 15,
   "metadata": {},
   "outputs": [],
   "source": [
    "li.remove(\"loda\")"
   ]
  },
  {
   "cell_type": "code",
   "execution_count": 16,
   "metadata": {},
   "outputs": [
    {
     "data": {
      "text/plain": [
       "['raghu', 4, 6, 8, 'monu', 3, 67, 12]"
      ]
     },
     "execution_count": 16,
     "metadata": {},
     "output_type": "execute_result"
    }
   ],
   "source": [
    "li"
   ]
  },
  {
   "cell_type": "markdown",
   "metadata": {},
   "source": [
    "### Loop in List"
   ]
  },
  {
   "cell_type": "code",
   "execution_count": 18,
   "metadata": {},
   "outputs": [],
   "source": [
    "li=[2,3,4,5,\"raghu\"]"
   ]
  },
  {
   "cell_type": "code",
   "execution_count": 19,
   "metadata": {},
   "outputs": [
    {
     "data": {
      "text/plain": [
       "[2, 3, 4, 5, 'raghu']"
      ]
     },
     "execution_count": 19,
     "metadata": {},
     "output_type": "execute_result"
    }
   ],
   "source": [
    "li"
   ]
  },
  {
   "cell_type": "code",
   "execution_count": 23,
   "metadata": {},
   "outputs": [
    {
     "name": "stdout",
     "output_type": "stream",
     "text": [
      "2\n",
      "3\n",
      "4\n",
      "5\n",
      "raghu\n"
     ]
    }
   ],
   "source": [
    "for i in range(len(li)):\n",
    "    print(li[i])"
   ]
  },
  {
   "cell_type": "code",
   "execution_count": 25,
   "metadata": {},
   "outputs": [
    {
     "name": "stdout",
     "output_type": "stream",
     "text": [
      "2\n",
      "3\n",
      "4\n",
      "5\n",
      "raghu\n"
     ]
    }
   ],
   "source": [
    "for ele in li:\n",
    "    print(ele)"
   ]
  },
  {
   "cell_type": "code",
   "execution_count": 34,
   "metadata": {},
   "outputs": [
    {
     "name": "stdout",
     "output_type": "stream",
     "text": [
      "4 \n",
      "4 5 67\n",
      "[4, 5, 67]\n"
     ]
    }
   ],
   "source": [
    "def parseInt(n): \n",
    "    return int(n) \n",
    "\n",
    "arr_count=int(input())\n",
    "inputStr=input().strip()\n",
    "numbers = list(map(parseInt, inputStr.split(' ')))\n",
    "print(numbers)\n",
    "\n",
    "def simpleArraySum(numbers):\n",
    "    sum = 0\n",
    "    for element in numbers:\n",
    "        sum += element\n",
    "    return sum"
   ]
  },
  {
   "cell_type": "markdown",
   "metadata": {},
   "source": [
    "### Taking Input"
   ]
  },
  {
   "cell_type": "code",
   "execution_count": 1,
   "metadata": {},
   "outputs": [
    {
     "name": "stdout",
     "output_type": "stream",
     "text": [
      "5\n",
      "1\n",
      "2\n",
      "3\n",
      "4\n",
      "5\n"
     ]
    }
   ],
   "source": [
    "# Line Seperated Input\n",
    "n = int(input())\n",
    "li=[]\n",
    "for i in range(n):\n",
    "    curr=int(input())\n",
    "    li.append(curr)"
   ]
  },
  {
   "cell_type": "code",
   "execution_count": 4,
   "metadata": {},
   "outputs": [
    {
     "name": "stdout",
     "output_type": "stream",
     "text": [
      "5\n",
      "1\n",
      "2\n",
      "3\n",
      "4\n",
      "5\n",
      "['1', '2', '3', '4', '5']\n"
     ]
    }
   ],
   "source": [
    "n = int(input())\n",
    "li = []\n",
    "for i in range(n):\n",
    "    li.append(input())\n",
    "print(li)"
   ]
  },
  {
   "cell_type": "code",
   "execution_count": 5,
   "metadata": {},
   "outputs": [
    {
     "name": "stdout",
     "output_type": "stream",
     "text": [
      "4\n",
      "1 2 3 4\n"
     ]
    }
   ],
   "source": [
    "# Space Seperated Input\n",
    "n=int(input())\n",
    "li=[int(x) for x in input().split()]"
   ]
  },
  {
   "cell_type": "code",
   "execution_count": 12,
   "metadata": {},
   "outputs": [
    {
     "name": "stdout",
     "output_type": "stream",
     "text": [
      "3\n",
      "2 3 4\n",
      "9\n"
     ]
    }
   ],
   "source": [
    "n=int(input())\n",
    "li=[int(x) for x in input().split()]\n",
    "sum = 0\n",
    "for list_ele in li:\n",
    "    sum=sum+list_ele\n",
    "print(sum)"
   ]
  },
  {
   "cell_type": "markdown",
   "metadata": {},
   "source": [
    "### Linear Search"
   ]
  },
  {
   "cell_type": "code",
   "execution_count": 5,
   "metadata": {},
   "outputs": [
    {
     "name": "stdout",
     "output_type": "stream",
     "text": [
      "3\n",
      "1 2 3\n",
      "4\n",
      "-1\n"
     ]
    }
   ],
   "source": [
    "n=int(input())\n",
    "li=[int(x) for x in input().split()]\n",
    "ele=int(input())\n",
    "isFound=False\n",
    "for i in range(len(li)):\n",
    "    if li[i]==ele:\n",
    "        print(i)\n",
    "        isFound=True\n",
    "        break\n",
    "if isFound is False:\n",
    "    print(-1)"
   ]
  },
  {
   "cell_type": "markdown",
   "metadata": {},
   "source": [
    "### Linear Search through Functions"
   ]
  },
  {
   "cell_type": "code",
   "execution_count": null,
   "metadata": {},
   "outputs": [],
   "source": [
    "def linear_search(li,ele):\n",
    "    #li is list and ele is element to search\n",
    "    for i in range(len(li)):\n",
    "        if li[i]==ele:\n",
    "            return i\n",
    "    return -1\n",
    "li=[1,2,3,4,5]\n",
    "index=linear_search(li,6)\n",
    "print(index)"
   ]
  },
  {
   "cell_type": "code",
   "execution_count": 12,
   "metadata": {},
   "outputs": [
    {
     "name": "stdout",
     "output_type": "stream",
     "text": [
      "4\n"
     ]
    }
   ],
   "source": [
    "a=2\n",
    "b=a+2\n",
    "def inc(b):\n",
    "    b=a+2\n",
    "    return b\n",
    "inc(b)\n",
    "print(b)"
   ]
  },
  {
   "cell_type": "markdown",
   "metadata": {},
   "source": [
    "### Reverse List"
   ]
  },
  {
   "cell_type": "code",
   "execution_count": 14,
   "metadata": {},
   "outputs": [
    {
     "name": "stdout",
     "output_type": "stream",
     "text": [
      "[6, 5, 4, 3, 2, 1]\n"
     ]
    }
   ],
   "source": [
    "def rev_l(li):\n",
    "    length = len(li)\n",
    "    for i in range(length//2):\n",
    "        li[i],li[length-i-1]=li[length-i-1],li[i]\n",
    "        \n",
    "li=[1,2,3,4,5,6]\n",
    "rev_l(li)\n",
    "print(li)"
   ]
  },
  {
   "cell_type": "code",
   "execution_count": null,
   "metadata": {},
   "outputs": [],
   "source": [
    "def swap_l(li):\n",
    "    length=len(li)\n",
    "    while length%2==0:\n",
    "        \n",
    "        for i in range(length//2):\n",
    "            li[i],li[i+1]=li[i+1],li[i]\n",
    "            \n",
    "li=[1,2,3,4,5,6]\n",
    "swap_l(li)\n",
    "print(li)"
   ]
  },
  {
   "cell_type": "code",
   "execution_count": 17,
   "metadata": {},
   "outputs": [
    {
     "name": "stdout",
     "output_type": "stream",
     "text": [
      "5\n",
      "1 2 3 4 5\n",
      "2 1 4 3 5 "
     ]
    }
   ],
   "source": [
    "def swappairwise(li):\n",
    "  l = len(li)&-2\n",
    "  li[1:l:2],li[:l:2] = li[:l:2],li[1:l:2]\n",
    "n=int(input())\n",
    "li=[int(x) for x in input().split()]\n",
    "swappairwise(li)\n",
    "for x in li:\n",
    "    print(x,end=\" \")"
   ]
  },
  {
   "cell_type": "code",
   "execution_count": 24,
   "metadata": {},
   "outputs": [
    {
     "name": "stdout",
     "output_type": "stream",
     "text": [
      "5\n",
      "1 0 0 0 1\n",
      "0 0 0 1 1 "
     ]
    }
   ],
   "source": [
    "def count(li):\n",
    "    total_one=0\n",
    "    total_zero = 0\n",
    "    for ele in li:\n",
    "        if ele == 1:\n",
    "           # total_one+=1\n",
    "            total_one=total_one+1\n",
    "        else:\n",
    "            total_zero+=1\n",
    "    return [total_one, total_zero]\n",
    "\n",
    "n=int(input())\n",
    "li=[int(x) for x in input().split()]\n",
    "\n",
    "total_array=count(li)\n",
    "finalArray = []\n",
    "\n",
    "for i in range(total_array[1]):\n",
    "    finalArray.append(0)\n",
    "for i in range (total_array[0]):\n",
    "    finalArray.append(1)\n",
    "for x in finalArray:\n",
    "    print(x,end=\" \")"
   ]
  },
  {
   "cell_type": "code",
   "execution_count": 26,
   "metadata": {},
   "outputs": [
    {
     "name": "stdout",
     "output_type": "stream",
     "text": [
      "5\n",
      "1 1 2 5 3\n",
      "5\n",
      "Count of pairs is 1\n"
     ]
    }
   ],
   "source": [
    "def getPairsCount(arr, n, sum): \n",
    "      \n",
    "    count = 0\n",
    "    for i in range(0, n): \n",
    "        for j in range(i + 1, n): \n",
    "            if arr[i] + arr[j] == sum: \n",
    "                count += 1\n",
    "      \n",
    "    return count\n",
    "n=int(input())\n",
    "arr=[int(x) for x in input().split()]\n",
    "sum=int(input())\n",
    "print(\"Count of pairs is\", \n",
    "      getPairsCount(arr, n, sum)) "
   ]
  },
  {
   "cell_type": "code",
   "execution_count": 34,
   "metadata": {},
   "outputs": [
    {
     "name": "stdout",
     "output_type": "stream",
     "text": [
      "9\n",
      "1 3 6 2 5 4 3 2 4\n",
      "7\n",
      "1 6\n",
      "2 5\n",
      "3 4\n",
      "4 3\n",
      "5 2\n",
      "3 4\n"
     ]
    }
   ],
   "source": [
    "def findPairs(arr, sum):  \n",
    "    res = [] \n",
    "    while arr: \n",
    "        num = arr.pop() \n",
    "        diff = sum - num \n",
    "        if diff in arr: \n",
    "            res.append(str(diff) + \" \"+ str(num)) \n",
    "          \n",
    "    res.reverse() \n",
    "    return res \n",
    "      \n",
    "n = int(input())\n",
    "arr = [int(x) for x in input().split()] \n",
    "sum = int(input())\n",
    "for x in findPairs(arr,sum):\n",
    "    \n",
    "    print(x)\n"
   ]
  },
  {
   "cell_type": "code",
   "execution_count": 36,
   "metadata": {},
   "outputs": [
    {
     "name": "stdout",
     "output_type": "stream",
     "text": [
      "[1, 2, 3, 6]\n"
     ]
    }
   ],
   "source": [
    "l = [1,1,2,3,6,1,2,6]\n",
    "\n",
    "result = []\n",
    "\n",
    "for i in (l):\n",
    "    \n",
    "\n",
    "    if i not in result:\n",
    "        result. append(i)\n",
    "\n",
    "print (result)"
   ]
  },
  {
   "cell_type": "code",
   "execution_count": 2,
   "metadata": {},
   "outputs": [
    {
     "name": "stdout",
     "output_type": "stream",
     "text": [
      "9\n",
      "1 3 6 2 5 4 3 2 4\n",
      "7\n",
      "1   6\n",
      "3   4\n",
      "3   4\n",
      "2   5\n",
      "2   5\n",
      "3   4\n",
      "3   4\n"
     ]
    }
   ],
   "source": [
    "n = int(input())\n",
    "a = [int(x) for x in input().split()] \n",
    "sum = int(input())\n",
    "for i in range (len(a)):\n",
    "    for j in range (i+1,len(a)):\n",
    "        if a[i]+a[j]==sum:\n",
    "            if(a[i]<a[j]):\n",
    "                print(a[i],\" \",a[j])\n",
    "            else:\n",
    "                print(a[j],\" \",a[i])"
   ]
  },
  {
   "cell_type": "code",
   "execution_count": 14,
   "metadata": {},
   "outputs": [
    {
     "name": "stdout",
     "output_type": "stream",
     "text": [
      "5\n",
      "1 2 3 1 2\n",
      "4\n",
      "1   1   2\n",
      "1   1   2\n"
     ]
    }
   ],
   "source": [
    "n = int(input())\n",
    "a = [int(x) for x in input().split()] \n",
    "sum = int(input())\n",
    "for i in range (len(a)):\n",
    "    for j in range (i+1,len(a)):\n",
    "        for k in range (j+1,len(a)):\n",
    "            \n",
    "            if a[i]+a[j]+a[k]==sum:\n",
    "                \n",
    "                \n",
    "                if(a[i]<=a[j]<=a[k]):\n",
    "                    print(a[i],\" \",a[j],\" \",a[k])\n",
    "                    \n",
    "                elif(a[k]<=a[j]<=a[i]):\n",
    "                    print(a[k],\" \",a[j],\" \",a[i])\n",
    "                      \n",
    "                elif (a[k]<=a[i]<=a[j]):\n",
    "                      print(a[k],\" \",a[i],\" \",a[j])\n",
    "                      \n",
    "                elif (a[i]<=a[k]<=a[j]):\n",
    "                      print(a[i],\" \",a[k],\" \",a[j])\n",
    "                      \n",
    "                elif (a[j]<=a[i]<=a[k]):\n",
    "                      print(a[j],\" \",a[i],\" \",a[k])\n",
    "                      \n",
    "                elif (a[j]<=a[k]<=a[i]):\n",
    "                      print(a[j],\" \",a[k],\" \",a[i])"
   ]
  },
  {
   "cell_type": "code",
   "execution_count": 22,
   "metadata": {},
   "outputs": [
    {
     "name": "stdout",
     "output_type": "stream",
     "text": [
      "5\n",
      "1 1 2 2 4\n",
      "1 2 "
     ]
    }
   ],
   "source": [
    "def Repeat(x): \n",
    "    _size = len(x) \n",
    "    repeated = [] \n",
    "    for i in range(_size): \n",
    "        k = i + 1\n",
    "        for j in range(k, _size): \n",
    "            if x[i] == x[j] and x[i] not in repeated: \n",
    "                repeated.append(x[i]) \n",
    "    return repeated \n",
    "  \n",
    "# Driver Code \n",
    "n=int(input())\n",
    "list1 = [int(x) for x in input().split()]\n",
    "for x in Repeat(list1):\n",
    "    print(x,end=\" \")"
   ]
  },
  {
   "cell_type": "code",
   "execution_count": 43,
   "metadata": {},
   "outputs": [
    {
     "name": "stdout",
     "output_type": "stream",
     "text": [
      "445\n",
      "false\n"
     ]
    }
   ],
   "source": [
    "num = int(input())\n",
    "\n",
    "order = len(str(num))\n",
    "\n",
    "sum = 0\n",
    "\n",
    "temp = num\n",
    "while temp > 0:\n",
    "   digit = temp % 10\n",
    "   sum += digit ** order\n",
    "   temp //= 10\n",
    "\n",
    "if num == sum:\n",
    "   print(\"true\")\n",
    "else:\n",
    "   print(\"false\")"
   ]
  },
  {
   "cell_type": "code",
   "execution_count": 2,
   "metadata": {},
   "outputs": [
    {
     "name": "stdout",
     "output_type": "stream",
     "text": [
      "276\n",
      "155 129 172 136 134 184 88 150 43 47 5 44 184 129 39 21 167 32 18 122 184 12 111 138 168 40 112 110 80 82 1 82 171 37 56 97 142 121 15 83 186 35 36 122 1 108 74 151 71 74 113 134 103 108 200 180 82 118 52 193 18 188 140 196 66 120 170 93 92 58 31 101 11 153 144 3 190 130 45 175 120 152 160 180 99 179 34 186 15 46 2 75 54 24 5 65 143 153 197 168 51 96 140 116 90 101 97 159 100 11 111 197 173 46 117 162 10 121 76 155 115 164 118 9 124 63 30 37 72 69 38 22 114 171 193 78 130 54 82 65 167 77 193 78 20 90 46 126 140 63 47 64 80 188 16 137 140 188 186 163 123 159 94 195 2 62 23 69 112 82 102 185 16 183 28 136 28 197 21 62 81 200 95 179 124 54 198 106 125 141 53 116 41 126 199 95 90 52 43 32 85 8 25 17 9 181 75 96 54 135 85 167 166 78 6 18 195 6 123 140 180 18 156 170 182 184 7 80 100 31 83 159 15 130 80 187 45 44 65 84 1 51 61 141 190 123 77 157 46 133 126 151 117 12 134 17 97 11 28 185 38 60 83 128 71 176 1 189 13 37 5 81 22 55 14 150 \n",
      "6\n",
      "167 31 24 98 152 159 \n",
      "167\n",
      "31\n",
      "152\n",
      "24\n",
      "159\n",
      "167\n",
      "159\n",
      "167\n",
      "31\n",
      "159\n"
     ]
    }
   ],
   "source": [
    "def intersection(lst1, lst2): \n",
    "    lst3 = [value for value in lst1 if value in lst2] \n",
    "    return lst3 \n",
    "  \n",
    "n=int(input())\n",
    "lst1 = [int(x) for x in input().split()]\n",
    "m=int(input())\n",
    "lst2 =[int(x) for x in input().split()]\n",
    "\n",
    "for x in (intersection(lst1, lst2)):\n",
    "    print(x)"
   ]
  },
  {
   "cell_type": "code",
   "execution_count": 19,
   "metadata": {
    "scrolled": true
   },
   "outputs": [
    {
     "name": "stdout",
     "output_type": "stream",
     "text": [
      "3\n",
      " 4 5 6\n",
      "3\n",
      "75 5 6\n"
     ]
    },
    {
     "ename": "TypeError",
     "evalue": "'NoneType' object is not iterable",
     "output_type": "error",
     "traceback": [
      "\u001b[1;31m---------------------------------------------------------------------------\u001b[0m",
      "\u001b[1;31mTypeError\u001b[0m                                 Traceback (most recent call last)",
      "\u001b[1;32m<ipython-input-19-a123a1abeaa3>\u001b[0m in \u001b[0;36m<module>\u001b[1;34m\u001b[0m\n\u001b[0;32m     14\u001b[0m \u001b[0mm\u001b[0m\u001b[1;33m=\u001b[0m\u001b[0mint\u001b[0m\u001b[1;33m(\u001b[0m\u001b[0minput\u001b[0m\u001b[1;33m(\u001b[0m\u001b[1;33m)\u001b[0m\u001b[1;33m)\u001b[0m\u001b[1;33m\u001b[0m\u001b[1;33m\u001b[0m\u001b[0m\n\u001b[0;32m     15\u001b[0m \u001b[0mlst2\u001b[0m \u001b[1;33m=\u001b[0m\u001b[1;33m[\u001b[0m\u001b[0mint\u001b[0m\u001b[1;33m(\u001b[0m\u001b[0mx\u001b[0m\u001b[1;33m)\u001b[0m \u001b[1;32mfor\u001b[0m \u001b[0mx\u001b[0m \u001b[1;32min\u001b[0m \u001b[0minput\u001b[0m\u001b[1;33m(\u001b[0m\u001b[1;33m)\u001b[0m\u001b[1;33m.\u001b[0m\u001b[0msplit\u001b[0m\u001b[1;33m(\u001b[0m\u001b[1;33m)\u001b[0m\u001b[1;33m]\u001b[0m\u001b[1;33m\u001b[0m\u001b[1;33m\u001b[0m\u001b[0m\n\u001b[1;32m---> 16\u001b[1;33m \u001b[1;32mfor\u001b[0m \u001b[0mx\u001b[0m \u001b[1;32min\u001b[0m \u001b[1;33m(\u001b[0m\u001b[0mintersection\u001b[0m\u001b[1;33m(\u001b[0m\u001b[0mlst1\u001b[0m\u001b[1;33m,\u001b[0m \u001b[0mlst2\u001b[0m\u001b[1;33m)\u001b[0m\u001b[1;33m)\u001b[0m\u001b[1;33m:\u001b[0m\u001b[1;33m\u001b[0m\u001b[1;33m\u001b[0m\u001b[0m\n\u001b[0m\u001b[0;32m     17\u001b[0m     \u001b[0mprint\u001b[0m\u001b[1;33m(\u001b[0m\u001b[0mx\u001b[0m\u001b[1;33m)\u001b[0m\u001b[1;33m\u001b[0m\u001b[1;33m\u001b[0m\u001b[0m\n",
      "\u001b[1;32m<ipython-input-19-a123a1abeaa3>\u001b[0m in \u001b[0;36mintersection\u001b[1;34m(lst1, lst2)\u001b[0m\n\u001b[0;32m      2\u001b[0m     \u001b[0mlst3\u001b[0m \u001b[1;33m=\u001b[0m \u001b[1;33m[\u001b[0m\u001b[1;33m]\u001b[0m\u001b[1;33m\u001b[0m\u001b[1;33m\u001b[0m\u001b[0m\n\u001b[0;32m      3\u001b[0m     \u001b[1;32mfor\u001b[0m \u001b[0mi\u001b[0m \u001b[1;32min\u001b[0m \u001b[0mlst1\u001b[0m\u001b[1;33m:\u001b[0m\u001b[1;33m\u001b[0m\u001b[1;33m\u001b[0m\u001b[0m\n\u001b[1;32m----> 4\u001b[1;33m         \u001b[1;32mfor\u001b[0m \u001b[0mj\u001b[0m \u001b[1;32min\u001b[0m \u001b[0mlst2\u001b[0m\u001b[1;33m:\u001b[0m\u001b[1;33m\u001b[0m\u001b[1;33m\u001b[0m\u001b[0m\n\u001b[0m\u001b[0;32m      5\u001b[0m             \u001b[1;32mif\u001b[0m \u001b[0mj\u001b[0m \u001b[1;33m==\u001b[0m \u001b[0mi\u001b[0m\u001b[1;33m:\u001b[0m\u001b[1;33m\u001b[0m\u001b[1;33m\u001b[0m\u001b[0m\n\u001b[0;32m      6\u001b[0m                 \u001b[0mlst3\u001b[0m\u001b[1;33m.\u001b[0m\u001b[0mappend\u001b[0m\u001b[1;33m(\u001b[0m\u001b[0mj\u001b[0m\u001b[1;33m)\u001b[0m\u001b[1;33m\u001b[0m\u001b[1;33m\u001b[0m\u001b[0m\n",
      "\u001b[1;31mTypeError\u001b[0m: 'NoneType' object is not iterable"
     ]
    }
   ],
   "source": [
    "def intersection(lst1, lst2): \n",
    "    lst3 = []\n",
    "    for i in lst1:\n",
    "        for j in lst2:\n",
    "            if j == i:\n",
    "                lst3.append(j)\n",
    "                lst2 = lst2.remove(j)\n",
    "                break\n",
    "    print(lst3)\n",
    "    return lst3\n",
    "  \n",
    "n=int(input())\n",
    "lst1 = [int(x) for x in input().split()]\n",
    "m=int(input())\n",
    "lst2 =[int(x) for x in input().split()]\n",
    "for x in (intersection(lst1, lst2)):\n",
    "    print(x)"
   ]
  }
 ],
 "metadata": {
  "kernelspec": {
   "display_name": "Python 3",
   "language": "python",
   "name": "python3"
  },
  "language_info": {
   "codemirror_mode": {
    "name": "ipython",
    "version": 3
   },
   "file_extension": ".py",
   "mimetype": "text/x-python",
   "name": "python",
   "nbconvert_exporter": "python",
   "pygments_lexer": "ipython3",
   "version": "3.7.4"
  }
 },
 "nbformat": 4,
 "nbformat_minor": 2
}
