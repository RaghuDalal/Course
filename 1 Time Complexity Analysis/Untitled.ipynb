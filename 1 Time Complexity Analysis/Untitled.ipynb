{
 "cells": [
  {
   "cell_type": "code",
   "execution_count": 1,
   "metadata": {},
   "outputs": [
    {
     "name": "stdout",
     "output_type": "stream",
     "text": [
      "3 4\n",
      "81\n"
     ]
    }
   ],
   "source": [
    "def power(x,n):\n",
    "    value=x**n\n",
    "    return value\n",
    "from sys import setrecursionlimit\n",
    "setrecursionlimit(11000)\n",
    "x, n=list(int(i) for i in input().strip().split(' '))\n",
    "print(power(x, n))  \n",
    "    "
   ]
  },
  {
   "cell_type": "code",
   "execution_count": null,
   "metadata": {},
   "outputs": [],
   "source": [
    "def power(x,n):\n",
    "    if n==0:\n",
    "        return 1\n",
    "    smallpower=power(x,n/2)\n",
    "    if n%2==0:\n",
    "        return smallpower*smallpower\n",
    "    else:\n",
    "        return x*smallpower*smallpower\n",
    "    \n",
    "    "
   ]
  },
  {
   "cell_type": "code",
   "execution_count": 24,
   "metadata": {
    "scrolled": true
   },
   "outputs": [
    {
     "name": "stdout",
     "output_type": "stream",
     "text": [
      "6\n",
      "1 2 3 4 5 6\n",
      "a1ok\n",
      "4\n",
      "3 4 5 6\n",
      "a2ok\n"
     ]
    },
    {
     "ename": "TypeError",
     "evalue": "object of type 'NoneType' has no len()",
     "output_type": "error",
     "traceback": [
      "\u001b[1;31m---------------------------------------------------------------------------\u001b[0m",
      "\u001b[1;31mTypeError\u001b[0m                                 Traceback (most recent call last)",
      "\u001b[1;32m<ipython-input-24-254664dc2971>\u001b[0m in \u001b[0;36m<module>\u001b[1;34m\u001b[0m\n\u001b[0;32m     86\u001b[0m     \u001b[0mmerge_sort\u001b[0m\u001b[1;33m(\u001b[0m\u001b[0ma\u001b[0m\u001b[1;33m)\u001b[0m\u001b[1;33m\u001b[0m\u001b[1;33m\u001b[0m\u001b[0m\n\u001b[0;32m     87\u001b[0m \u001b[0marrr2\u001b[0m\u001b[1;33m=\u001b[0m\u001b[0msort2\u001b[0m\u001b[1;33m(\u001b[0m\u001b[0marr2\u001b[0m\u001b[1;33m)\u001b[0m\u001b[1;33m\u001b[0m\u001b[1;33m\u001b[0m\u001b[0m\n\u001b[1;32m---> 88\u001b[1;33m \u001b[0mintersection\u001b[0m\u001b[1;33m(\u001b[0m\u001b[0marrr1\u001b[0m\u001b[1;33m,\u001b[0m \u001b[0marrr2\u001b[0m\u001b[1;33m)\u001b[0m\u001b[1;33m\u001b[0m\u001b[1;33m\u001b[0m\u001b[0m\n\u001b[0m",
      "\u001b[1;32m<ipython-input-24-254664dc2971>\u001b[0m in \u001b[0;36mintersection\u001b[1;34m(arrr1, arrr2)\u001b[0m\n\u001b[0;32m      1\u001b[0m \u001b[1;32mdef\u001b[0m \u001b[0mintersection\u001b[0m\u001b[1;33m(\u001b[0m\u001b[0marrr1\u001b[0m\u001b[1;33m,\u001b[0m \u001b[0marrr2\u001b[0m\u001b[1;33m)\u001b[0m\u001b[1;33m:\u001b[0m\u001b[1;33m\u001b[0m\u001b[1;33m\u001b[0m\u001b[0m\n\u001b[1;32m----> 2\u001b[1;33m     \u001b[1;32mfor\u001b[0m \u001b[0mi\u001b[0m \u001b[1;32min\u001b[0m \u001b[0mrange\u001b[0m \u001b[1;33m(\u001b[0m\u001b[0mlen\u001b[0m\u001b[1;33m(\u001b[0m\u001b[0marrr1\u001b[0m\u001b[1;33m)\u001b[0m\u001b[1;33m)\u001b[0m\u001b[1;33m:\u001b[0m\u001b[1;33m\u001b[0m\u001b[1;33m\u001b[0m\u001b[0m\n\u001b[0m\u001b[0;32m      3\u001b[0m         \u001b[1;32mfor\u001b[0m \u001b[0mj\u001b[0m \u001b[1;32min\u001b[0m \u001b[0mrange\u001b[0m \u001b[1;33m(\u001b[0m\u001b[0mlen\u001b[0m\u001b[1;33m(\u001b[0m\u001b[0marrr2\u001b[0m\u001b[1;33m)\u001b[0m\u001b[1;33m)\u001b[0m\u001b[1;33m:\u001b[0m\u001b[1;33m\u001b[0m\u001b[1;33m\u001b[0m\u001b[0m\n\u001b[0;32m      4\u001b[0m             \u001b[1;32mif\u001b[0m \u001b[0marrr1\u001b[0m\u001b[1;33m[\u001b[0m\u001b[0mi\u001b[0m\u001b[1;33m]\u001b[0m\u001b[1;33m<\u001b[0m\u001b[0marrr2\u001b[0m\u001b[1;33m[\u001b[0m\u001b[0mj\u001b[0m\u001b[1;33m]\u001b[0m\u001b[1;33m:\u001b[0m\u001b[1;33m\u001b[0m\u001b[1;33m\u001b[0m\u001b[0m\n\u001b[0;32m      5\u001b[0m                 \u001b[0mi\u001b[0m\u001b[1;33m=\u001b[0m\u001b[0mi\u001b[0m\u001b[1;33m+\u001b[0m\u001b[1;36m1\u001b[0m\u001b[1;33m\u001b[0m\u001b[1;33m\u001b[0m\u001b[0m\n",
      "\u001b[1;31mTypeError\u001b[0m: object of type 'NoneType' has no len()"
     ]
    }
   ],
   "source": [
    "def intersection(arrr1, arrr2):\n",
    "    for i in range (len(arrr1)):\n",
    "        for j in range (len(arrr2)):\n",
    "            if arrr1[i]<arrr2[j]:\n",
    "                i=i+1\n",
    "            elif arrr2[j]<arrr1[i]:\n",
    "                j=j+1\n",
    "            else:\n",
    "                print(arrr1[i])\n",
    "                i=i+1\n",
    "                j=j+1\n",
    "from sys import setrecursionlimit\n",
    "setrecursionlimit(11000)\n",
    "n1=int(input())\n",
    "arr1=list(int(i) for i in input().strip().split(' '))\n",
    "def sort1(arr1):\n",
    "    def merge(a1,a2,a):\n",
    "        r=0\n",
    "        j=0\n",
    "        k=0\n",
    "        while r<len(a1) and j<len(a2):\n",
    "            if (a1[r]<a2[j]):\n",
    "                a[k]=a1[r]\n",
    "                k=k+1\n",
    "                r=r+1\n",
    "            else:\n",
    "                a[k]=a2[j]\n",
    "                k=k+1\n",
    "                j=j+1\n",
    "        while r<len(a1):\n",
    "            a[k]=a1[r]\n",
    "            k=k+1\n",
    "            r=r+1\n",
    "        while j<len(a2):\n",
    "            a[k]=a2[j]\n",
    "            k=k+1\n",
    "            j=j+1\n",
    "    def merge_sort(a):\n",
    "        if len(a)==0 or len(a)==1:\n",
    "            return\n",
    "        mid=len(a)//2\n",
    "        a1=a[0:mid]\n",
    "        a2=a[mid:]\n",
    "        merge_sort(a1)\n",
    "        merge_sort(a2)\n",
    "        merge(a1,a2,a)\n",
    "    a=arr1\n",
    "    print(\"a1ok\")\n",
    "    merge_sort(a)\n",
    "arrr1=sort1(arr1)\n",
    "n2=int(input())\n",
    "arr2=list(int(i) for i in input().strip().split(' '))\n",
    "def sort2(arr2):\n",
    "    def merge(a1,a2,a):\n",
    "        q=0\n",
    "        j=0\n",
    "        k=0\n",
    "        while q<len(a1) and j<len(a2):\n",
    "            if (a1[q]<a2[j]):\n",
    "                a[k]=a1[q]\n",
    "                k=k+1\n",
    "                q=q+1\n",
    "            else:\n",
    "                a[k]=a2[j]\n",
    "                k=k+1\n",
    "                j=j+1\n",
    "        while q<len(a1):\n",
    "            a[k]=a1[q]\n",
    "            k=k+1\n",
    "            q=q+1\n",
    "        while j<len(a2):\n",
    "            a[k]=a2[j]\n",
    "            k=k+1\n",
    "            j=j+1  \n",
    "    def merge_sort(a):\n",
    "        if len(a)==0 or len(a)==1:\n",
    "            return\n",
    "        mid=len(a)//2\n",
    "        a1=a[0:mid]\n",
    "        a2=a[mid:]\n",
    "        merge_sort(a1)\n",
    "        merge_sort(a2)\n",
    "        merge(a1,a2,a)\n",
    "    a=arr2\n",
    "    print('a2ok')\n",
    "    merge_sort(a)\n",
    "arrr2=sort2(arr2)\n",
    "intersection(arrr1, arrr2) "
   ]
  },
  {
   "cell_type": "code",
   "execution_count": 6,
   "metadata": {},
   "outputs": [
    {
     "name": "stdout",
     "output_type": "stream",
     "text": [
      "[1, 3, 5, 7, 7, 9, 13, 24, 56]\n"
     ]
    }
   ],
   "source": [
    "def merge(a1,a2,a):\n",
    "    i=0\n",
    "    j=0\n",
    "    k=0\n",
    "    while i<len(a1) and j<len(a2):\n",
    "        if (a1[i]<a2[j]):\n",
    "            a[k]=a1[i]\n",
    "            k=k+1\n",
    "            i=i+1\n",
    "        else:\n",
    "            a[k]=a2[j]\n",
    "            k=k+1\n",
    "            j=j+1\n",
    "    while i<len(a1):\n",
    "        a[k]=a1[i]\n",
    "        k=k+1\n",
    "        i=i+1\n",
    "    while j<len(a2):\n",
    "        a[k]=a2[j]\n",
    "        k=k+1\n",
    "        j=j+1\n",
    "        \n",
    "            \n",
    "            \n",
    "def merge_sort(a):\n",
    "    if len(a)==0 or len(a)==1:\n",
    "        return\n",
    "    mid=len(a)//2\n",
    "    a1=a[0:mid]\n",
    "    a2=a[mid:]\n",
    "    \n",
    "    merge_sort(a1)\n",
    "    merge_sort(a2)\n",
    "    merge(a1,a2,a)\n",
    "\n",
    "    \n",
    "    \n",
    "a=[5,3,7,1,9,13,7,24,56]\n",
    "merge_sort(a)\n",
    "print(a)\n",
    "    "
   ]
  },
  {
   "cell_type": "code",
   "execution_count": 1,
   "metadata": {},
   "outputs": [
    {
     "name": "stdout",
     "output_type": "stream",
     "text": [
      "7\n",
      "-7 1 5 2 -4 3 0\n",
      "3\n"
     ]
    }
   ],
   "source": [
    "def equilibrium(arr): \n",
    "    leftsum = 0\n",
    "    rightsum = 0\n",
    "    n = len(arr) \n",
    "    for i in range(n): \n",
    "        leftsum = 0\n",
    "        rightsum = 0\n",
    "\n",
    "        for j in range(i): \n",
    "            leftsum += arr[j] \n",
    "\n",
    "        for j in range(i + 1, n): \n",
    "            rightsum += arr[j] \n",
    "\n",
    "        if leftsum == rightsum: \n",
    "            return i \n",
    "\n",
    "    return -1\n",
    "\n",
    "n1=int(input())\n",
    "arr=list(int(i) for i in input().strip().split(' '))\n",
    "print (equilibrium(arr)) "
   ]
  },
  {
   "cell_type": "code",
   "execution_count": 6,
   "metadata": {
    "scrolled": true
   },
   "outputs": [
    {
     "name": "stdout",
     "output_type": "stream",
     "text": [
      "7\n",
      "1 1 2 3 4 4 6\n"
     ]
    },
    {
     "ename": "TypeError",
     "evalue": "'list' object is not callable",
     "output_type": "error",
     "traceback": [
      "\u001b[1;31m---------------------------------------------------------------------------\u001b[0m",
      "\u001b[1;31mTypeError\u001b[0m                                 Traceback (most recent call last)",
      "\u001b[1;32m<ipython-input-6-43d7cd6c9c0a>\u001b[0m in \u001b[0;36m<module>\u001b[1;34m\u001b[0m\n\u001b[0;32m     10\u001b[0m     \u001b[1;32mreturn\u001b[0m \u001b[0muniq_list\u001b[0m\u001b[1;33m\u001b[0m\u001b[1;33m\u001b[0m\u001b[0m\n\u001b[0;32m     11\u001b[0m \u001b[0mn\u001b[0m\u001b[1;33m=\u001b[0m\u001b[0mint\u001b[0m\u001b[1;33m(\u001b[0m\u001b[0minput\u001b[0m\u001b[1;33m(\u001b[0m\u001b[1;33m)\u001b[0m\u001b[1;33m)\u001b[0m\u001b[1;33m\u001b[0m\u001b[1;33m\u001b[0m\u001b[0m\n\u001b[1;32m---> 12\u001b[1;33m \u001b[0mlist\u001b[0m\u001b[1;33m=\u001b[0m\u001b[0mlist\u001b[0m\u001b[1;33m(\u001b[0m\u001b[0mint\u001b[0m\u001b[1;33m(\u001b[0m\u001b[0mi\u001b[0m\u001b[1;33m)\u001b[0m \u001b[1;32mfor\u001b[0m \u001b[0mi\u001b[0m \u001b[1;32min\u001b[0m \u001b[0minput\u001b[0m\u001b[1;33m(\u001b[0m\u001b[1;33m)\u001b[0m\u001b[1;33m.\u001b[0m\u001b[0mstrip\u001b[0m\u001b[1;33m(\u001b[0m\u001b[1;33m)\u001b[0m\u001b[1;33m.\u001b[0m\u001b[0msplit\u001b[0m\u001b[1;33m(\u001b[0m\u001b[1;34m' '\u001b[0m\u001b[1;33m)\u001b[0m\u001b[1;33m)\u001b[0m\u001b[1;33m\u001b[0m\u001b[1;33m\u001b[0m\u001b[0m\n\u001b[0m\u001b[0;32m     13\u001b[0m \u001b[0mprint\u001b[0m\u001b[1;33m(\u001b[0m\u001b[0munique_list\u001b[0m\u001b[1;33m(\u001b[0m\u001b[0mlist\u001b[0m\u001b[1;33m)\u001b[0m\u001b[1;33m)\u001b[0m\u001b[1;33m\u001b[0m\u001b[1;33m\u001b[0m\u001b[0m\n",
      "\u001b[1;31mTypeError\u001b[0m: 'list' object is not callable"
     ]
    }
   ],
   "source": [
    "def unique_list(list):\n",
    "    uniq_list = []\n",
    "    uniq_set = set()\n",
    "    for item in list:\n",
    "        \n",
    "        if item not in uniq_set:\n",
    "            \n",
    "            uniq_list.append(item)\n",
    "            uniq_set.add(item)\n",
    "    return uniq_list\n",
    "n=int(input())\n",
    "list=list(int(i) for i in input().strip().split(' '))\n",
    "print(unique_list(list))"
   ]
  }
 ],
 "metadata": {
  "kernelspec": {
   "display_name": "Python 3",
   "language": "python",
   "name": "python3"
  },
  "language_info": {
   "codemirror_mode": {
    "name": "ipython",
    "version": 3
   },
   "file_extension": ".py",
   "mimetype": "text/x-python",
   "name": "python",
   "nbconvert_exporter": "python",
   "pygments_lexer": "ipython3",
   "version": "3.7.4"
  }
 },
 "nbformat": 4,
 "nbformat_minor": 2
}
