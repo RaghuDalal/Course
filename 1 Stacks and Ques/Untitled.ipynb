{
 "cells": [
  {
   "cell_type": "code",
   "execution_count": 3,
   "metadata": {},
   "outputs": [
    {
     "name": "stdout",
     "output_type": "stream",
     "text": [
      "<__main__.Stack object at 0x000001DC78087608>\n"
     ]
    }
   ],
   "source": [
    "class Stack:\n",
    "    def __init__(self):\n",
    "        self.__data=[]\n",
    "        \n",
    "    def push(self,item):\n",
    "        self.__data.append(item)\n",
    "        \n",
    "    def pop(self):\n",
    "        if self.isEmpty():\n",
    "            print(\"Stack is Empty\")\n",
    "            return\n",
    "        return self.__data.pop()\n",
    "    \n",
    "    def top(self):\n",
    "        if self.isEmpty():\n",
    "            print(\"Stack is Empty\")\n",
    "            return\n",
    "        return self.__data[len(self.__data)-1]\n",
    "    \n",
    "    def size(self):\n",
    "        return len(self.__data)\n",
    "    \n",
    "    def isEmpty(self):\n",
    "        return self.size()==0\n",
    "        \n",
    "s=Stack()\n",
    "s.push(1)\n",
    "s.push(2)\n",
    "s.push(3)\n",
    "print(s)"
   ]
  },
  {
   "cell_type": "code",
   "execution_count": 6,
   "metadata": {
    "scrolled": true
   },
   "outputs": [
    {
     "name": "stdout",
     "output_type": "stream",
     "text": [
      "1 2 3 4 5\n",
      "2\n",
      "1\n",
      "false\n"
     ]
    }
   ],
   "source": [
    "class Node:\n",
    "    def __init__(self,data):\n",
    "        self.data = data\n",
    "        self.next = None\n",
    "        \n",
    "class StackUsingLL:\n",
    "    ### Implement all these functions here\n",
    "    \n",
    "    def __init__(self):\n",
    "        self.__head = None\n",
    "        self.__size = 0\n",
    "\n",
    "    def push(self,data):\n",
    "        newNode=Node(data)\n",
    "        newNode.next=self.__head\n",
    "        self.__head=newNode\n",
    "        self.__size=self.__size+1\n",
    "\n",
    "    def pop(self):\n",
    "        if self.isEmpty() is True:\n",
    "            return 0\n",
    "        data=self.__head.data\n",
    "        self.__head=self.__head.next\n",
    "        self.__size=self.__size-1\n",
    "        return data\n",
    "    # Return 0 if stack is empty. Don't display any other message\n",
    "    \n",
    "    def top(self):\n",
    "        if self.isEmpty() is True:\n",
    "            return 0\n",
    "        data=self.__head.data\n",
    "        return data\n",
    "    # Return 0 if stack is empty. Don't display any other message\n",
    "    \n",
    "    def isEmpty(self):\n",
    "        return self.getSize()==0\n",
    "        \n",
    "    def getSize(self):\n",
    "        return self.__size\n",
    "        \n",
    "\n",
    "li = [int(ele) for ele in input().split()]\n",
    "s = StackUsingLL()\n",
    "i=0\n",
    "while i<len(li):\n",
    "    choice = li[i]\n",
    "    if choice == -1:\n",
    "        break\n",
    "    elif choice == 1:\n",
    "        s.push(li[i+1])\n",
    "        i+=1\n",
    "    elif choice == 2:\n",
    "        ans = s.pop()\n",
    "        if ans!=0:\n",
    "            print(ans)\n",
    "        else:\n",
    "            print(-1)\n",
    "    elif choice == 3:\n",
    "        ans = s.top()\n",
    "        if ans!=0:\n",
    "            print(ans)\n",
    "        else:\n",
    "            print(-1)\n",
    "    elif choice == 4:\n",
    "        print(s.getSize())\n",
    "    elif choice == 5:\n",
    "        if(s.isEmpty()):\n",
    "            print('true')\n",
    "        else:\n",
    "            print('false')\n",
    "    i+=1"
   ]
  },
  {
   "cell_type": "code",
   "execution_count": 1,
   "metadata": {},
   "outputs": [
    {
     "name": "stdout",
     "output_type": "stream",
     "text": [
      "[ b+ (c * d)]\n",
      "false\n"
     ]
    }
   ],
   "source": [
    "def reverseStack(s1,s2):\n",
    "    if (len(s1)<=1):\n",
    "        return\n",
    "    while (len(s1)!=1):\n",
    "        ele=s1.pop()\n",
    "        s2.append(ele)\n",
    "    lastEle=s1.pop()\n",
    "    while (len(s2)!=0):\n",
    "        ele=s2.pop()\n",
    "        s1.append(ele)\n",
    "    reverseStack(s1,s2)\n",
    "    s1.append(lastEle)\n",
    "    \n",
    "from sys import setrecursionlimit\n",
    "setrecursionlimit(11000)\n",
    "n = int(input())\n",
    "s1 = [int(ele) for ele in input().split()]\n",
    "s2 = []\n",
    "reverseStack(s1,s2)\n",
    "while(len(s1) !=0):\n",
    "    print(s1.pop(),end= ' ')\n"
   ]
  },
  {
   "cell_type": "code",
   "execution_count": 12,
   "metadata": {},
   "outputs": [
    {
     "name": "stdout",
     "output_type": "stream",
     "text": [
      "{{{{}}\n",
      "3\n"
     ]
    }
   ],
   "source": [
    "\n",
    "def countMinReversals(expr): \n",
    "\n",
    "\tlenn = len(expr) \n",
    "\tif (lenn % 2) : \n",
    "\t\treturn -1\n",
    "\ts = [] \n",
    "\tfor i in range(lenn): \n",
    "\t\tif (expr[i] =='' and len(s)): \n",
    "\n",
    "\t\t\tif (s[0] == '') : \n",
    "\t\t\t\ts.pop(0) \n",
    "\t\t\telse: \n",
    "\t\t\t\ts.insert(0, expr[i]) \n",
    "\t\telse: \n",
    "\t\t\ts.insert(0, expr[i]) \n",
    "\tred_len = len(s) \n",
    "\tn = 0\n",
    "\twhile (len(s)and s[0] == '') : \n",
    "\t\t\ts.pop(0) \n",
    "\t\t\tn += 1\n",
    "\treturn (red_len // 2 + n % 2) \n",
    "\n",
    "if __name__ == '__main__': \n",
    "\n",
    "\texpr = input()\n",
    "\tprint(countMinReversals(expr.strip())) \n"
   ]
  }
 ],
 "metadata": {
  "kernelspec": {
   "display_name": "Python 3",
   "language": "python",
   "name": "python3"
  },
  "language_info": {
   "codemirror_mode": {
    "name": "ipython",
    "version": 3
   },
   "file_extension": ".py",
   "mimetype": "text/x-python",
   "name": "python",
   "nbconvert_exporter": "python",
   "pygments_lexer": "ipython3",
   "version": "3.7.4"
  }
 },
 "nbformat": 4,
 "nbformat_minor": 2
}
