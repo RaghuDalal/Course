{
 "cells": [
  {
   "cell_type": "code",
   "execution_count": 9,
   "metadata": {},
   "outputs": [],
   "source": [
    "li=[[2,1,3,4],[3,5,1,6],[5,6,7,8],[8,9,4,1]]"
   ]
  },
  {
   "cell_type": "code",
   "execution_count": 12,
   "metadata": {},
   "outputs": [
    {
     "data": {
      "text/plain": [
       "8"
      ]
     },
     "execution_count": 12,
     "metadata": {},
     "output_type": "execute_result"
    }
   ],
   "source": [
    "li[2][3]"
   ]
  },
  {
   "cell_type": "code",
   "execution_count": 14,
   "metadata": {},
   "outputs": [
    {
     "data": {
      "text/plain": [
       "[[2, 1, 3, 4], [3, 5, 1, 6], [5, 6, 7, 11], [8, 9, 4, 1]]"
      ]
     },
     "execution_count": 14,
     "metadata": {},
     "output_type": "execute_result"
    }
   ],
   "source": [
    "li"
   ]
  },
  {
   "cell_type": "code",
   "execution_count": 13,
   "metadata": {},
   "outputs": [],
   "source": [
    "li[2][3]=11"
   ]
  },
  {
   "cell_type": "markdown",
   "metadata": {},
   "source": [
    "### List Comprehension"
   ]
  },
  {
   "cell_type": "code",
   "execution_count": 15,
   "metadata": {},
   "outputs": [
    {
     "name": "stdout",
     "output_type": "stream",
     "text": [
      "[1, 4, 9, 16]\n"
     ]
    }
   ],
   "source": [
    "li=[1,2,3,4]\n",
    "li_new=[]\n",
    "for ele in li:\n",
    "    li_new.append(ele**2)\n",
    "print(li_new)"
   ]
  },
  {
   "cell_type": "code",
   "execution_count": 33,
   "metadata": {},
   "outputs": [
    {
     "name": "stdout",
     "output_type": "stream",
     "text": [
      "[1, 4, 9, 16]\n"
     ]
    }
   ],
   "source": [
    "li=[1,2,3,4]\n",
    "li_new=[ele**2 for ele in li]\n",
    "print(li_new)"
   ]
  },
  {
   "cell_type": "code",
   "execution_count": 26,
   "metadata": {},
   "outputs": [
    {
     "name": "stdout",
     "output_type": "stream",
     "text": [
      "[4, 16]\n"
     ]
    }
   ],
   "source": [
    "li=[1,2,3,4]\n",
    "li_new=[ele**2 for ele in li if ele%2==0]\n",
    "print(li_new)"
   ]
  },
  {
   "cell_type": "code",
   "execution_count": 27,
   "metadata": {},
   "outputs": [
    {
     "name": "stdout",
     "output_type": "stream",
     "text": [
      "[1, 4, 3, 16, 5]\n"
     ]
    }
   ],
   "source": [
    "li=[1,2,3,4,5]\n",
    "li_new=[ele**2 if ele%2==0 else ele for ele in li]\n",
    "print(li_new)"
   ]
  },
  {
   "cell_type": "markdown",
   "metadata": {},
   "source": [
    "### Input in 2D list"
   ]
  },
  {
   "cell_type": "code",
   "execution_count": 28,
   "metadata": {},
   "outputs": [
    {
     "name": "stdout",
     "output_type": "stream",
     "text": [
      "3 4\n",
      "1 2 3 4\n",
      "5 6 7 8\n",
      "9 10 11 12\n",
      "[[1, 2, 3, 4], [5, 6, 7, 8], [9, 10, 11, 12]]\n"
     ]
    }
   ],
   "source": [
    "str=input().split()\n",
    "n,m=int(str[0]),int(str[1])\n",
    "li=[[int(j) for j in input().split()] for i in range(n)]\n",
    "print(li)"
   ]
  },
  {
   "cell_type": "code",
   "execution_count": 30,
   "metadata": {},
   "outputs": [
    {
     "name": "stdout",
     "output_type": "stream",
     "text": [
      "3 4\n",
      "1 2 3 4 5 6 7 8 9 10 11 12\n",
      "[[1, 2, 3, 4], [5, 6, 7, 8], [9, 10, 11, 12]]\n"
     ]
    }
   ],
   "source": [
    "str=input().split()\n",
    "n,m=int(str[0]),int(str[1])\n",
    "b=input().split()\n",
    "li=[[int(b[m*i+j]) for j in range (m)] for i in range(n)]\n",
    "print(li)"
   ]
  },
  {
   "cell_type": "markdown",
   "metadata": {},
   "source": [
    "### Practice"
   ]
  },
  {
   "cell_type": "code",
   "execution_count": 52,
   "metadata": {
    "scrolled": true
   },
   "outputs": [
    {
     "name": "stdout",
     "output_type": "stream",
     "text": [
      "4 4\n",
      "1 2 3 4 5 6 7 8 9 10 11 12 13 14 15 16\n",
      "[[1, 2, 3, 4], [5, 6, 7, 8], [9, 10, 11, 12], [13, 14, 15, 16]]\n",
      "1 2 3 4 8 12 16 15 14 13 9 5 6 7 11 10 "
     ]
    }
   ],
   "source": [
    "def spiralPrint(twoDArr,row,col):\n",
    "    top=0\n",
    "    bottom=n-1\n",
    "    left=0\n",
    "    right=m-1\n",
    "    direction=0\n",
    "    while (top<=bottom) and (left<=right):\n",
    "        if (direction==0):\n",
    "            for i in range(left,right+1):\n",
    "                print(twoDArr[top][i],end=\" \")\n",
    "            top+=1\n",
    "            direction=1\n",
    "        elif (direction==1):\n",
    "            for i in range(top,bottom+1):\n",
    "                print(twoDArr[i][right],end=\" \")\n",
    "            right-=1\n",
    "            direction=2\n",
    "        elif (direction==2):\n",
    "            for i in range(right,left-1,-1):\n",
    "                print(twoDArr[bottom][i],end=\" \")\n",
    "            bottom-=1\n",
    "            direction=3\n",
    "        elif (direction==3):\n",
    "            for i in range(bottom,top-1,-1):\n",
    "                print(twoDArr[i][left],end=\" \")\n",
    "            left+=1\n",
    "            direction=0\n",
    "str=input().split()\n",
    "n,m = int(str[0]),int(str[1])\n",
    "b=input().split()\n",
    "arr=[[int(b[m*i+j]) for j in range (m)] for i in range(n)]\n",
    "spiralPrint(arr,n,m)"
   ]
  },
  {
   "cell_type": "code",
   "execution_count": 32,
   "metadata": {
    "scrolled": true
   },
   "outputs": [
    {
     "name": "stdout",
     "output_type": "stream",
     "text": [
      "2 2\n",
      "1 2 3 4\n",
      "[1, 2]\n",
      "[[1, 2, 3, 4]]\n"
     ]
    }
   ],
   "source": [
    "\n",
    "str=input().split()\n",
    "m,n=int(str[0]),int(str[1])\n",
    "b=input().split()\n",
    "arr=[[int(b[m*i+j]) for j in range (m)] for i in range(n)]\n",
    "final_arr=[]\n",
    "for i in range(0,len(arr)-1):\n",
    "    print(arr[i])\n",
    "    final_arr.append(arr[i]+arr[i+1])\n",
    "print(final_arr)"
   ]
  },
  {
   "cell_type": "code",
   "execution_count": 56,
   "metadata": {},
   "outputs": [
    {
     "name": "stdout",
     "output_type": "stream",
     "text": [
      "1 1 39\n",
      "39 "
     ]
    }
   ],
   "source": [
    "def spiralPrint(twoDArr,row,col):\n",
    "    top=0\n",
    "    bottom=n-1\n",
    "    left=0\n",
    "    right=m-1\n",
    "    direction=0\n",
    "    while (top<=bottom) and (left<=right):\n",
    "        if (direction==0):\n",
    "            for i in range(left,right+1):\n",
    "                print(twoDArr[top][i],end=\" \")\n",
    "            top+=1\n",
    "            direction=1\n",
    "        elif (direction==1):\n",
    "            for i in range(top,bottom+1):\n",
    "                print(twoDArr[i][right],end=\" \")\n",
    "            right-=1\n",
    "            direction=2\n",
    "        elif (direction==2):\n",
    "            for i in range(right,left-1,-1):\n",
    "                print(twoDArr[bottom][i],end=\" \")\n",
    "            bottom-=1\n",
    "            direction=3\n",
    "        elif (direction==3):\n",
    "            for i in range(bottom,top-1,-1):\n",
    "                print(twoDArr[i][left],end=\" \")\n",
    "            left+=1\n",
    "            direction=0\n",
    "l=[int(i) for i in input().strip().split(\" \")]\n",
    "m,n = l[0],l[1]\n",
    "arr=[[l[(j*n)+i+2] for i in range(n)] for j in range(m)]\n",
    "spiralPrint(arr,m,n)"
   ]
  }
 ],
 "metadata": {
  "kernelspec": {
   "display_name": "Python 3",
   "language": "python",
   "name": "python3"
  },
  "language_info": {
   "codemirror_mode": {
    "name": "ipython",
    "version": 3
   },
   "file_extension": ".py",
   "mimetype": "text/x-python",
   "name": "python",
   "nbconvert_exporter": "python",
   "pygments_lexer": "ipython3",
   "version": "3.7.4"
  }
 },
 "nbformat": 4,
 "nbformat_minor": 2
}
