{
 "cells": [
  {
   "cell_type": "code",
   "execution_count": 11,
   "metadata": {},
   "outputs": [
    {
     "data": {
      "text/plain": [
       "'raghu'"
      ]
     },
     "execution_count": 11,
     "metadata": {},
     "output_type": "execute_result"
    }
   ],
   "source": [
    "s=\"raghu\"\n",
    "s"
   ]
  },
  {
   "cell_type": "code",
   "execution_count": 12,
   "metadata": {},
   "outputs": [
    {
     "data": {
      "text/plain": [
       "'raghudalal'"
      ]
     },
     "execution_count": 12,
     "metadata": {},
     "output_type": "execute_result"
    }
   ],
   "source": [
    "s=s+\"dalal\"\n",
    "s"
   ]
  },
  {
   "cell_type": "code",
   "execution_count": 13,
   "metadata": {},
   "outputs": [
    {
     "data": {
      "text/plain": [
       "'raghudalalraghudalal'"
      ]
     },
     "execution_count": 13,
     "metadata": {},
     "output_type": "execute_result"
    }
   ],
   "source": [
    "s=s*2\n",
    "s"
   ]
  },
  {
   "cell_type": "code",
   "execution_count": 14,
   "metadata": {},
   "outputs": [],
   "source": [
    "s=\"Raghvender\""
   ]
  },
  {
   "cell_type": "code",
   "execution_count": 15,
   "metadata": {},
   "outputs": [
    {
     "data": {
      "text/plain": [
       "'Raghv'"
      ]
     },
     "execution_count": 15,
     "metadata": {},
     "output_type": "execute_result"
    }
   ],
   "source": [
    "s[0:5]"
   ]
  },
  {
   "cell_type": "code",
   "execution_count": 47,
   "metadata": {},
   "outputs": [
    {
     "data": {
      "text/plain": [
       "'red'"
      ]
     },
     "execution_count": 47,
     "metadata": {},
     "output_type": "execute_result"
    }
   ],
   "source": [
    "s[:-4:-1]"
   ]
  },
  {
   "cell_type": "markdown",
   "metadata": {},
   "source": [
    "### How to iterate on String"
   ]
  },
  {
   "cell_type": "code",
   "execution_count": 27,
   "metadata": {},
   "outputs": [
    {
     "name": "stdout",
     "output_type": "stream",
     "text": [
      "2\n"
     ]
    }
   ],
   "source": [
    "str=\"Hello there\"\n",
    "count=0\n",
    "for letter in str:\n",
    "    if (letter==\"l\"):\n",
    "        \n",
    "        count=count+1\n",
    "print(count)"
   ]
  },
  {
   "cell_type": "code",
   "execution_count": 23,
   "metadata": {},
   "outputs": [
    {
     "name": "stdout",
     "output_type": "stream",
     "text": [
      "3\n"
     ]
    }
   ],
   "source": [
    "str=\"Hello World\"\n",
    "count=0\n",
    "for i in range (len(str)):\n",
    "    \n",
    "    if str[i]==\"l\":\n",
    "        count=count+1\n",
    "print(count)"
   ]
  },
  {
   "cell_type": "code",
   "execution_count": 28,
   "metadata": {},
   "outputs": [
    {
     "name": "stdout",
     "output_type": "stream",
     "text": [
      "True\n"
     ]
    }
   ],
   "source": [
    "a=\"abc\"\n",
    "b=\"cba\"\n",
    "if a[::]==b[::-1]:\n",
    "    print(\"True\")"
   ]
  },
  {
   "cell_type": "code",
   "execution_count": 36,
   "metadata": {},
   "outputs": [
    {
     "data": {
      "text/plain": [
       "'d'"
      ]
     },
     "execution_count": 36,
     "metadata": {},
     "output_type": "execute_result"
    }
   ],
   "source": [
    "r=\"abcdef\"\n",
    "r[len(r)//2]"
   ]
  },
  {
   "cell_type": "code",
   "execution_count": 9,
   "metadata": {
    "scrolled": false
   },
   "outputs": [
    {
     "name": "stdout",
     "output_type": "stream",
     "text": [
      "abcba\n",
      "true\n"
     ]
    }
   ],
   "source": [
    "string=input()\n",
    "flag=False\n",
    "\n",
    "for i in range (0,len(str)//2) and (len(str)//2,len(str)):\n",
    "    if string[::]==string[::-1]:\n",
    "        flag=True\n",
    "        \n",
    "if flag:\n",
    "    print(\"true\")\n",
    "else:\n",
    "    print(\"false\")"
   ]
  },
  {
   "cell_type": "markdown",
   "metadata": {},
   "source": [
    "### Functions of Strings"
   ]
  },
  {
   "cell_type": "markdown",
   "metadata": {},
   "source": [
    " Split"
   ]
  },
  {
   "cell_type": "code",
   "execution_count": 66,
   "metadata": {},
   "outputs": [
    {
     "name": "stdout",
     "output_type": "stream",
     "text": [
      "['My', 'name', 'is', 'Raghu']\n"
     ]
    }
   ],
   "source": [
    "str=\"My name is Raghu\"\n",
    "li=str.split()\n",
    "print(li)"
   ]
  },
  {
   "cell_type": "markdown",
   "metadata": {},
   "source": [
    "Replace"
   ]
  },
  {
   "cell_type": "code",
   "execution_count": 67,
   "metadata": {},
   "outputs": [
    {
     "name": "stdout",
     "output_type": "stream",
     "text": [
      "My name is Dalal\n"
     ]
    }
   ],
   "source": [
    "str=\"My name is Raghu\"\n",
    "str2=str.replace(\"Raghu\",\"Dalal\")\n",
    "print(str2)"
   ]
  },
  {
   "cell_type": "code",
   "execution_count": 69,
   "metadata": {},
   "outputs": [
    {
     "name": "stdout",
     "output_type": "stream",
     "text": [
      "My name is Dalal Dalal Raghu\n"
     ]
    }
   ],
   "source": [
    "str=\"My name is Raghu Raghu Raghu\"\n",
    "str2=str.replace(\"Raghu\",\"Dalal\",2)\n",
    "print(str2)"
   ]
  },
  {
   "cell_type": "markdown",
   "metadata": {},
   "source": [
    "Find"
   ]
  },
  {
   "cell_type": "code",
   "execution_count": 70,
   "metadata": {},
   "outputs": [
    {
     "name": "stdout",
     "output_type": "stream",
     "text": [
      "3\n"
     ]
    }
   ],
   "source": [
    "str=\"My name is Raghu\"\n",
    "index=str.find(\"na\")\n",
    "print(index)"
   ]
  },
  {
   "cell_type": "code",
   "execution_count": 71,
   "metadata": {},
   "outputs": [
    {
     "name": "stdout",
     "output_type": "stream",
     "text": [
      "17\n"
     ]
    }
   ],
   "source": [
    "str=\"My name is Raghu Raghu Raghu\"\n",
    "index=str.find(\"Ra\",14,len(str))\n",
    "print(index)"
   ]
  },
  {
   "cell_type": "markdown",
   "metadata": {},
   "source": [
    "Lower & Upper"
   ]
  },
  {
   "cell_type": "code",
   "execution_count": 72,
   "metadata": {},
   "outputs": [
    {
     "name": "stdout",
     "output_type": "stream",
     "text": [
      "my name is raghu\n"
     ]
    }
   ],
   "source": [
    "str=\"My name is Raghu\"\n",
    "str2=str.lower()\n",
    "print(str2)"
   ]
  },
  {
   "cell_type": "code",
   "execution_count": 73,
   "metadata": {},
   "outputs": [
    {
     "name": "stdout",
     "output_type": "stream",
     "text": [
      "MY NAME IS RAGHU\n"
     ]
    }
   ],
   "source": [
    "str=\"My name is Raghu\"\n",
    "str2=str.upper()\n",
    "print(str2)"
   ]
  },
  {
   "cell_type": "markdown",
   "metadata": {},
   "source": [
    "Starts With"
   ]
  },
  {
   "cell_type": "code",
   "execution_count": 82,
   "metadata": {},
   "outputs": [
    {
     "name": "stdout",
     "output_type": "stream",
     "text": [
      "True\n"
     ]
    }
   ],
   "source": [
    "str=\"My name is Raghu\"\n",
    "str2=str.startswith(\"Ra\",11)\n",
    "print(str2)"
   ]
  },
  {
   "cell_type": "markdown",
   "metadata": {},
   "source": [
    "### Replace Character"
   ]
  },
  {
   "cell_type": "code",
   "execution_count": 85,
   "metadata": {},
   "outputs": [
    {
     "name": "stdout",
     "output_type": "stream",
     "text": [
      "rdrdrdrdrd\n"
     ]
    }
   ],
   "source": [
    "def replace(str,char1,char2):\n",
    "    newstr=\"\"\n",
    "    for char in str:\n",
    "        if(char==char1):\n",
    "            newstr=newstr+char2\n",
    "        else:\n",
    "            newstr=newstr+char\n",
    "    return newstr\n",
    "\n",
    "str=\"adadadadad\"\n",
    "str=replace(str,\"a\",\"r\")\n",
    "print(str)"
   ]
  },
  {
   "cell_type": "markdown",
   "metadata": {},
   "source": [
    "### Count Vowels, Consonants, Digits & Special Characters in Strings"
   ]
  },
  {
   "cell_type": "code",
   "execution_count": 87,
   "metadata": {},
   "outputs": [
    {
     "name": "stdout",
     "output_type": "stream",
     "text": [
      "7 6 7 2\n"
     ]
    }
   ],
   "source": [
    "def countString(str):\n",
    "    v,c,d,s=0,0,0,0\n",
    "    for char in str:\n",
    "        if((char>=\"a\") and (char<=\"z\") or (char>=\"A\") and (char<=\"Z\")):\n",
    "            char=char.lower()\n",
    "            if (char == \"a\" or char == \"e\" or char == \"i\" or char == \"o\" or char == \"u\"):\n",
    "                v+=1\n",
    "            else:\n",
    "                c+=1\n",
    "        elif ((char>=\"0\") and (char<=\"9\")):\n",
    "            d+=1\n",
    "        else:\n",
    "            s+=1\n",
    "    return v,c,d,s\n",
    "\n",
    "\n",
    "str=\"adadaHGH!aeiho@2324242\"\n",
    "v,c,d,s=countString(str)\n",
    "print(v,c,d,s)"
   ]
  },
  {
   "cell_type": "markdown",
   "metadata": {},
   "source": [
    "### Assignments"
   ]
  },
  {
   "cell_type": "code",
   "execution_count": 93,
   "metadata": {},
   "outputs": [
    {
     "name": "stdout",
     "output_type": "stream",
     "text": [
      "abcde\n",
      "baedc\n",
      "true\n"
     ]
    }
   ],
   "source": [
    "NO_OF_CHARS = 256\n",
    "\n",
    "def Permutation(str1, str2): \n",
    "\n",
    "    count1 = [0] * NO_OF_CHARS \n",
    "    count2 = [0] * NO_OF_CHARS \n",
    "\n",
    "    for i in str1: \n",
    "        count1[ord(i)]+=1\n",
    "  \n",
    "    for i in str2: \n",
    "        count2[ord(i)]+=1\n",
    "\n",
    "    if len(str1) != len(str2): \n",
    "        return 0\n",
    "\n",
    "    for i in range(NO_OF_CHARS): \n",
    "        if count1[i] != count2[i]: \n",
    "            return 0\n",
    "  \n",
    "    return 1\n",
    "\n",
    "str1 =input()\n",
    "str2 =input()\n",
    "if Permutation(str1, str2): \n",
    "    print(\"true\")\n",
    "else: \n",
    "    print(\"false\")"
   ]
  },
  {
   "cell_type": "code",
   "execution_count": 15,
   "metadata": {},
   "outputs": [
    {
     "name": "stdout",
     "output_type": "stream",
     "text": [
      "abba\n",
      "true\n"
     ]
    }
   ],
   "source": [
    "def reverse(s): \n",
    "    return s[::-1] \n",
    "  \n",
    "def isPalindrome(s): \n",
    "    rev = reverse(s) \n",
    "    if (s == rev): \n",
    "        return True\n",
    "    return False\n",
    "\n",
    "s = input()\n",
    "ans = isPalindrome(s) \n",
    "  \n",
    "if ans == 1: \n",
    "    print(\"true\") \n",
    "else: \n",
    "    print(\"false\") "
   ]
  }
 ],
 "metadata": {
  "kernelspec": {
   "display_name": "Python 3",
   "language": "python",
   "name": "python3"
  },
  "language_info": {
   "codemirror_mode": {
    "name": "ipython",
    "version": 3
   },
   "file_extension": ".py",
   "mimetype": "text/x-python",
   "name": "python",
   "nbconvert_exporter": "python",
   "pygments_lexer": "ipython3",
   "version": "3.7.4"
  }
 },
 "nbformat": 4,
 "nbformat_minor": 2
}
