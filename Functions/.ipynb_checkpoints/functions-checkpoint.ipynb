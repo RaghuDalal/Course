{
 "cells": [
  {
   "cell_type": "code",
   "execution_count": 8,
   "metadata": {},
   "outputs": [
    {
     "name": "stdout",
     "output_type": "stream",
     "text": [
      "11\n"
     ]
    }
   ],
   "source": [
    "def function(a,b,c=1,d=5):\n",
    "    return a+b+c+d\n",
    "value = function(1,2,d=7)\n",
    "print(value)"
   ]
  },
  {
   "cell_type": "code",
   "execution_count": 41,
   "metadata": {},
   "outputs": [],
   "source": [
    "def prime(n):\n",
    "    for d in range(2,n+1):\n",
    "        if (n%d==0):\n",
    "            break\n",
    "        else :\n",
    "            return True\n",
    "        return False\n",
    "    "
   ]
  },
  {
   "cell_type": "code",
   "execution_count": 42,
   "metadata": {},
   "outputs": [
    {
     "data": {
      "text/plain": [
       "True"
      ]
     },
     "execution_count": 42,
     "metadata": {},
     "output_type": "execute_result"
    }
   ],
   "source": [
    "prime(7)"
   ]
  },
  {
   "cell_type": "code",
   "execution_count": 45,
   "metadata": {},
   "outputs": [],
   "source": [
    "def prime2ton(n):\n",
    "    for k in range(2,n+1):\n",
    "        is_k_prime=prime(k)\n",
    "        if is_k_prime:\n",
    "            print(k)"
   ]
  },
  {
   "cell_type": "code",
   "execution_count": 53,
   "metadata": {},
   "outputs": [
    {
     "name": "stdout",
     "output_type": "stream",
     "text": [
      "36\n",
      "618\n",
      "78\n",
      "36\t2\n",
      "114\t45\n",
      "192\t88\n",
      "270\t132\n",
      "348\t175\n",
      "426\t218\n",
      "504\t262\n",
      "582\t305\n"
     ]
    }
   ],
   "source": [
    "s=int(input())\n",
    "e=int(input())\n",
    "st=int(input())\n",
    "def conversion(start,end,step):\n",
    "    for f in range(start,end,step):\n",
    "        cel=int((f-32)*5/9)\n",
    "        print(str(f)+\"\\t\"+str(cel))\n",
    "conversion(s,e,st)  "
   ]
  },
  {
   "cell_type": "code",
   "execution_count": 70,
   "metadata": {},
   "outputs": [
    {
     "name": "stdout",
     "output_type": "stream",
     "text": [
      "90\n",
      "false\n"
     ]
    }
   ],
   "source": [
    "def checkMemberNPrint(n):\n",
    "    curr = 1\n",
    "    prev = 1\n",
    "    while(curr < n):\n",
    "        temp = curr + prev\n",
    "        prev = curr\n",
    "        curr = temp\n",
    "        \n",
    "    if curr == n:\n",
    "        print(\"true\")\n",
    "    else:\n",
    "        print(\"false\") \n",
    "        \n",
    "n=int(input())     \n",
    "checkMemberNPrint(n)  "
   ]
  },
  {
   "cell_type": "code",
   "execution_count": null,
   "metadata": {},
   "outputs": [],
   "source": []
  }
 ],
 "metadata": {
  "kernelspec": {
   "display_name": "Python 3",
   "language": "python",
   "name": "python3"
  },
  "language_info": {
   "codemirror_mode": {
    "name": "ipython",
    "version": 3
   },
   "file_extension": ".py",
   "mimetype": "text/x-python",
   "name": "python",
   "nbconvert_exporter": "python",
   "pygments_lexer": "ipython3",
   "version": "3.7.4"
  }
 },
 "nbformat": 4,
 "nbformat_minor": 2
}
