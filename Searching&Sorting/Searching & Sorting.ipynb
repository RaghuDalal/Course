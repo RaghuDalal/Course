{
 "cells": [
  {
   "cell_type": "code",
   "execution_count": 1,
   "metadata": {},
   "outputs": [
    {
     "name": "stdout",
     "output_type": "stream",
     "text": [
      "4\n"
     ]
    }
   ],
   "source": [
    "def binarysearch(arr,element):\n",
    "    start=0\n",
    "    end=len(arr)-1\n",
    "    while (start<=end):\n",
    "        mid=(start+end)//2\n",
    "        if (arr[mid]==element):\n",
    "            return mid\n",
    "        elif (arr[mid]<element):\n",
    "            start=mid+1\n",
    "        else:\n",
    "            end=mid-1\n",
    "    return -1\n",
    "arr = [6,5,1,34,55,61,7,80]\n",
    "index=binarysearch(arr,55)\n",
    "print(index)"
   ]
  },
  {
   "cell_type": "code",
   "execution_count": 2,
   "metadata": {},
   "outputs": [
    {
     "name": "stdout",
     "output_type": "stream",
     "text": [
      "7\n",
      "1 3 7 9 11 12 45\n",
      "3\n",
      "1\n"
     ]
    }
   ],
   "source": [
    "def binarysearch(arr,element):\n",
    "    start=0\n",
    "    end=len(arr)-1\n",
    "    while (start<=end):\n",
    "        mid=(start+end)//2\n",
    "        if (arr[mid]==element):\n",
    "            return mid\n",
    "        elif (arr[mid]<element):\n",
    "            start=mid+1\n",
    "        else:\n",
    "            end=mid-1\n",
    "    return -1\n",
    "n=int(input())\n",
    "arr = [int(x) for x in input().split()]\n",
    "element=int(input())\n",
    "index=binarysearch(arr,element)\n",
    "print(index)"
   ]
  },
  {
   "cell_type": "markdown",
   "metadata": {},
   "source": [
    "### Selection Sort"
   ]
  },
  {
   "cell_type": "code",
   "execution_count": 4,
   "metadata": {},
   "outputs": [
    {
     "name": "stdout",
     "output_type": "stream",
     "text": [
      "[1, 2, 5, 9, 23, 45, 83, 98, 867]\n"
     ]
    }
   ],
   "source": [
    "def selectionSort(arr):\n",
    "    length=len(arr)\n",
    "    for i in range (length-1):\n",
    "        minIndex=i\n",
    "        for j in range (i+1,length):\n",
    "            if (arr[j] < arr[minIndex]):\n",
    "                minIndex = j\n",
    "        arr[i],arr[minIndex]=arr[minIndex],arr[i]\n",
    "\n",
    "arr=[5,45,867,1,9,23,98,2,83]\n",
    "selectionSort(arr)\n",
    "print(arr)"
   ]
  },
  {
   "cell_type": "markdown",
   "metadata": {},
   "source": [
    "### Bubble Sort"
   ]
  },
  {
   "cell_type": "code",
   "execution_count": 5,
   "metadata": {},
   "outputs": [
    {
     "name": "stdout",
     "output_type": "stream",
     "text": [
      "[1, 2, 5, 9, 23, 45, 83, 98, 867]\n"
     ]
    }
   ],
   "source": [
    "def bubbleSort(arr):\n",
    "    length=len(arr)\n",
    "    for i in range (length-1):\n",
    "        \n",
    "        for j in range (length-1-i):\n",
    "            if arr[j] > arr[j+1]:\n",
    "                arr[j] ,arr[j+1] = arr[j+1] ,arr[j]\n",
    "                \n",
    "arr=[5,45,867,1,9,23,98,2,83]\n",
    "bubbleSort(arr)\n",
    "print(arr)"
   ]
  },
  {
   "cell_type": "markdown",
   "metadata": {},
   "source": [
    "### Insertion Sort"
   ]
  },
  {
   "cell_type": "code",
   "execution_count": 7,
   "metadata": {},
   "outputs": [
    {
     "name": "stdout",
     "output_type": "stream",
     "text": [
      "[1, 2, 5, 9, 23, 45, 83, 98, 867]\n"
     ]
    }
   ],
   "source": [
    "def insertionSort(arr):\n",
    "    length=len(arr)\n",
    "    for i in range (1,length):\n",
    "        j=i-1\n",
    "        temp=arr[i]\n",
    "        while (j>=0 and arr[j]>temp):\n",
    "            arr[j+1]=arr[j]\n",
    "            j=j-1\n",
    "        arr[j+1]=temp\n",
    "arr=[5,45,867,1,9,23,98,2,83]\n",
    "insertionSort(arr)\n",
    "print(arr)"
   ]
  },
  {
   "cell_type": "markdown",
   "metadata": {},
   "source": [
    "### Merge two sorted array"
   ]
  },
  {
   "cell_type": "code",
   "execution_count": 8,
   "metadata": {},
   "outputs": [
    {
     "name": "stdout",
     "output_type": "stream",
     "text": [
      "[1, 2, 3, 4, 5, 6, 7, 8, 9, 10]\n"
     ]
    }
   ],
   "source": [
    "def mergedArr(arr1,arr2):\n",
    "    i=0\n",
    "    j=0\n",
    "    len1=len(arr1)\n",
    "    len2=len(arr2)\n",
    "    \n",
    "    arr=[]\n",
    "    while ((i<len1) and (j < len2)):\n",
    "        if (arr1[i]<arr2[j]):\n",
    "            arr.append(arr1[i])\n",
    "            i=i+1\n",
    "        else:\n",
    "            arr.append(arr2[j])\n",
    "            j=j+1\n",
    "    while (i<len1):\n",
    "        arr.append(arr1[i])\n",
    "        i=i+1\n",
    "    while (j<len2):\n",
    "        arr.append(arr2[j])\n",
    "        j=j+1\n",
    "    return arr\n",
    "arr1=[1,3,5,7,9]\n",
    "arr2=[2,4,6,8,10]\n",
    "arr=mergedArr(arr1,arr2)\n",
    "print(arr)"
   ]
  },
  {
   "cell_type": "markdown",
   "metadata": {},
   "source": [
    "### Practice"
   ]
  },
  {
   "cell_type": "code",
   "execution_count": 12,
   "metadata": {},
   "outputs": [
    {
     "name": "stdout",
     "output_type": "stream",
     "text": [
      "3\n",
      "0 1 2\n",
      "0 "
     ]
    }
   ],
   "source": [
    "def count(li):\n",
    "    \n",
    "    total_zero = 0\n",
    "    \n",
    "    for ele in li:\n",
    "        if ele == 0:\n",
    "            total_zero+=1\n",
    "        \n",
    "        \n",
    "    return [total_zero]\n",
    "\n",
    "n=int(input())\n",
    "li=[int(x) for x in input().split()]\n",
    "\n",
    "total_array=count(li)\n",
    "finalArray = []\n",
    "\n",
    "for i in range(total_array[0]):\n",
    "    finalArray.append(0)\n",
    "\n",
    "\n",
    "for x in finalArray:\n",
    "    print(x,end=\" \")"
   ]
  },
  {
   "cell_type": "code",
   "execution_count": 1,
   "metadata": {},
   "outputs": [
    {
     "name": "stdout",
     "output_type": "stream",
     "text": [
      "7\n",
      "2 13 4 1 3 6 28\n"
     ]
    },
    {
     "ename": "UnboundLocalError",
     "evalue": "local variable 'max' referenced before assignment",
     "output_type": "error",
     "traceback": [
      "\u001b[1;31m---------------------------------------------------------------------------\u001b[0m",
      "\u001b[1;31mUnboundLocalError\u001b[0m                         Traceback (most recent call last)",
      "\u001b[1;32m<ipython-input-1-14cf76a41fd7>\u001b[0m in \u001b[0;36m<module>\u001b[1;34m\u001b[0m\n\u001b[0;32m     14\u001b[0m \u001b[0mn\u001b[0m\u001b[1;33m=\u001b[0m\u001b[0mint\u001b[0m\u001b[1;33m(\u001b[0m\u001b[0minput\u001b[0m\u001b[1;33m(\u001b[0m\u001b[1;33m)\u001b[0m\u001b[1;33m)\u001b[0m\u001b[1;33m\u001b[0m\u001b[1;33m\u001b[0m\u001b[0m\n\u001b[0;32m     15\u001b[0m \u001b[0marr\u001b[0m \u001b[1;33m=\u001b[0m \u001b[1;33m[\u001b[0m\u001b[0mint\u001b[0m\u001b[1;33m(\u001b[0m\u001b[0mx\u001b[0m\u001b[1;33m)\u001b[0m \u001b[1;32mfor\u001b[0m \u001b[0mx\u001b[0m \u001b[1;32min\u001b[0m \u001b[0minput\u001b[0m\u001b[1;33m(\u001b[0m\u001b[1;33m)\u001b[0m\u001b[1;33m.\u001b[0m\u001b[0msplit\u001b[0m\u001b[1;33m(\u001b[0m\u001b[1;33m)\u001b[0m\u001b[1;33m]\u001b[0m\u001b[1;33m\u001b[0m\u001b[1;33m\u001b[0m\u001b[0m\n\u001b[1;32m---> 16\u001b[1;33m \u001b[0msecondLargest\u001b[0m\u001b[1;33m(\u001b[0m\u001b[0marr\u001b[0m\u001b[1;33m)\u001b[0m\u001b[1;33m\u001b[0m\u001b[1;33m\u001b[0m\u001b[0m\n\u001b[0m\u001b[0;32m     17\u001b[0m \u001b[0mprint\u001b[0m\u001b[1;33m(\u001b[0m\u001b[0marr\u001b[0m\u001b[1;33m)\u001b[0m\u001b[1;33m\u001b[0m\u001b[1;33m\u001b[0m\u001b[0m\n",
      "\u001b[1;32m<ipython-input-1-14cf76a41fd7>\u001b[0m in \u001b[0;36msecondLargest\u001b[1;34m(arr)\u001b[0m\n\u001b[0;32m      1\u001b[0m \u001b[1;32mdef\u001b[0m \u001b[0msecondLargest\u001b[0m\u001b[1;33m(\u001b[0m\u001b[0marr\u001b[0m\u001b[1;33m)\u001b[0m\u001b[1;33m:\u001b[0m\u001b[1;33m\u001b[0m\u001b[1;33m\u001b[0m\u001b[0m\n\u001b[1;32m----> 2\u001b[1;33m     \u001b[0mmax\u001b[0m\u001b[1;33m=\u001b[0m\u001b[0mmax\u001b[0m\u001b[1;33m(\u001b[0m\u001b[0marr\u001b[0m\u001b[1;33m[\u001b[0m\u001b[1;36m0\u001b[0m\u001b[1;33m]\u001b[0m\u001b[1;33m,\u001b[0m\u001b[0marr\u001b[0m\u001b[1;33m[\u001b[0m\u001b[1;36m1\u001b[0m\u001b[1;33m]\u001b[0m\u001b[1;33m)\u001b[0m\u001b[1;33m\u001b[0m\u001b[1;33m\u001b[0m\u001b[0m\n\u001b[0m\u001b[0;32m      3\u001b[0m     \u001b[0msecondmax\u001b[0m\u001b[1;33m=\u001b[0m\u001b[0mmin\u001b[0m\u001b[1;33m(\u001b[0m\u001b[0marr\u001b[0m\u001b[1;33m[\u001b[0m\u001b[1;36m0\u001b[0m\u001b[1;33m]\u001b[0m\u001b[1;33m,\u001b[0m\u001b[0marr\u001b[0m\u001b[1;33m[\u001b[0m\u001b[1;36m1\u001b[0m\u001b[1;33m]\u001b[0m\u001b[1;33m)\u001b[0m\u001b[1;33m\u001b[0m\u001b[1;33m\u001b[0m\u001b[0m\n\u001b[0;32m      4\u001b[0m \u001b[1;33m\u001b[0m\u001b[0m\n\u001b[0;32m      5\u001b[0m     \u001b[1;32mfor\u001b[0m \u001b[0mi\u001b[0m \u001b[1;32min\u001b[0m \u001b[0mrange\u001b[0m\u001b[1;33m(\u001b[0m\u001b[1;36m2\u001b[0m\u001b[1;33m,\u001b[0m\u001b[0mlen\u001b[0m\u001b[1;33m(\u001b[0m\u001b[0marr\u001b[0m\u001b[1;33m)\u001b[0m\u001b[1;33m)\u001b[0m\u001b[1;33m:\u001b[0m\u001b[1;33m\u001b[0m\u001b[1;33m\u001b[0m\u001b[0m\n",
      "\u001b[1;31mUnboundLocalError\u001b[0m: local variable 'max' referenced before assignment"
     ]
    }
   ],
   "source": [
    "def secondLargest(arr):\n",
    "    max=max(arr[0],arr[1]) \n",
    "    secondmax=min(arr[0],arr[1]) \n",
    "    \n",
    "    for i in range(2,len(arr)):\n",
    "        \n",
    "        if arr[i]>max:\n",
    "            \n",
    "            secondmax=max\n",
    "            max=arr[i] \n",
    "        else: \n",
    "            if arr[i]>secondmax: \n",
    "                secondmax=list1[i] \n",
    "n=int(input())\n",
    "arr = [int(x) for x in input().split()]\n",
    "secondLargest(arr)\n",
    "print(arr)"
   ]
  },
  {
   "cell_type": "code",
   "execution_count": 33,
   "metadata": {},
   "outputs": [
    {
     "name": "stdout",
     "output_type": "stream",
     "text": [
      "6\n",
      "7 7 6 7 7 7\n",
      "7\n"
     ]
    }
   ],
   "source": [
    "def Second_Largest(arr):  \n",
    "    largest = arr[0]  \n",
    "    lowest = arr[0]  \n",
    "    largest2 = None\n",
    "    lowest2 = None\n",
    "    for item in arr[1:]:      \n",
    "        if item > largest:  \n",
    "            largest2 = largest \n",
    "            largest = item  \n",
    "        elif largest2 == None or largest2 < item:  \n",
    "            largest2 = item  \n",
    "        elif item < lowest:  \n",
    "            lowest2 = lowest \n",
    "            lowest = item  \n",
    "        elif lowest2 == None or lowest2 > item:  \n",
    "            lowest2 = item \n",
    "\n",
    "\n",
    "    print( largest2)\n",
    "n=int(input())\n",
    "arr = [int(x) for x in input().split()] \n",
    "Second_Largest(arr) "
   ]
  },
  {
   "cell_type": "code",
   "execution_count": 42,
   "metadata": {},
   "outputs": [
    {
     "name": "stdout",
     "output_type": "stream",
     "text": [
      "5\n",
      "4 4 3 4 4\n",
      "3\n"
     ]
    }
   ],
   "source": [
    "import sys\n",
    "def Print_Second_Largest(arr):  \n",
    "    largest = -sys.maxsize - 1  \n",
    "    largest2 = None\n",
    "    for item in arr:      \n",
    "        if largest < item:\n",
    "            largest2=largest\n",
    "            largest=item\n",
    "        elif item < largest and largest2 == -sys.maxsize -1:\n",
    "            largest2 = item\n",
    "\n",
    "    if largest2 == -sys.maxsize - 1:\n",
    "        print(largest)\n",
    "    else:\n",
    "        \n",
    "        print(largest2)\n",
    "    \n",
    "n=int(input())\n",
    "arr = [int(x) for x in input().split()] \n",
    "Print_Second_Largest(arr) "
   ]
  },
  {
   "cell_type": "code",
   "execution_count": 62,
   "metadata": {},
   "outputs": [
    {
     "name": "stdout",
     "output_type": "stream",
     "text": [
      "3\n",
      "1 2 3\n",
      "2\n",
      "2 3\n",
      "123 23\n",
      "0 1 4 6 "
     ]
    }
   ],
   "source": [
    "def convert2number(arr):\n",
    "    number=0\n",
    "    for item in arr:\n",
    "        number=(number*10)+item\n",
    "    return number\n",
    "\n",
    "def convert2array(number,length):\n",
    "    arr=list(str(number)) \n",
    "    if len(arr) < length + 1:\n",
    "        for x in range (len(arr),length+1):\n",
    "            arr.insert(0,\"0\")\n",
    "    return arr\n",
    "\n",
    "n=int(input())\n",
    "arr1=[int(x) for x in input().split()]\n",
    "m=int(input())\n",
    "arr2=[int(x) for x in input().split()]\n",
    "\n",
    "number1=convert2number(arr1)\n",
    "number2=convert2number(arr2)\n",
    "\n",
    "biggerArrSize = 0\n",
    "if len(arr1) >= len(arr2):\n",
    "    biggerArrSize = len(arr1)\n",
    "else:\n",
    "    biggerArrSize = len(arr2)\n",
    "\n",
    "final_arr=convert2array(number1+number2,biggerArrSize)\n",
    "\n",
    "for x in final_arr:\n",
    "    print(x,end=\" \")"
   ]
  },
  {
   "cell_type": "code",
   "execution_count": 72,
   "metadata": {},
   "outputs": [
    {
     "name": "stdout",
     "output_type": "stream",
     "text": [
      "5\n",
      "5 5 4 5 5\n"
     ]
    },
    {
     "ename": "OverflowError",
     "evalue": "cannot convert float infinity to integer",
     "output_type": "error",
     "traceback": [
      "\u001b[1;31m---------------------------------------------------------------------------\u001b[0m",
      "\u001b[1;31mOverflowError\u001b[0m                             Traceback (most recent call last)",
      "\u001b[1;32m<ipython-input-72-cfac47749083>\u001b[0m in \u001b[0;36m<module>\u001b[1;34m\u001b[0m\n\u001b[0;32m     11\u001b[0m \u001b[0mn\u001b[0m\u001b[1;33m=\u001b[0m\u001b[0mint\u001b[0m\u001b[1;33m(\u001b[0m\u001b[0minput\u001b[0m\u001b[1;33m(\u001b[0m\u001b[1;33m)\u001b[0m\u001b[1;33m)\u001b[0m\u001b[1;33m\u001b[0m\u001b[1;33m\u001b[0m\u001b[0m\n\u001b[0;32m     12\u001b[0m \u001b[0mlst\u001b[0m\u001b[1;33m=\u001b[0m\u001b[1;33m[\u001b[0m\u001b[0mint\u001b[0m\u001b[1;33m(\u001b[0m\u001b[0mx\u001b[0m\u001b[1;33m)\u001b[0m \u001b[1;32mfor\u001b[0m \u001b[0mx\u001b[0m \u001b[1;32min\u001b[0m \u001b[0minput\u001b[0m\u001b[1;33m(\u001b[0m\u001b[1;33m)\u001b[0m\u001b[1;33m.\u001b[0m\u001b[0msplit\u001b[0m\u001b[1;33m(\u001b[0m\u001b[1;33m)\u001b[0m\u001b[1;33m]\u001b[0m\u001b[1;33m\u001b[0m\u001b[1;33m\u001b[0m\u001b[0m\n\u001b[1;32m---> 13\u001b[1;33m \u001b[0msecond_largest\u001b[0m\u001b[1;33m(\u001b[0m\u001b[0mlst\u001b[0m\u001b[1;33m)\u001b[0m\u001b[1;33m\u001b[0m\u001b[1;33m\u001b[0m\u001b[0m\n\u001b[0m",
      "\u001b[1;32m<ipython-input-72-cfac47749083>\u001b[0m in \u001b[0;36msecond_largest\u001b[1;34m(lst)\u001b[0m\n\u001b[0;32m      8\u001b[0m             \u001b[1;32mif\u001b[0m \u001b[0mfloat\u001b[0m\u001b[1;33m(\u001b[0m\u001b[0mlst\u001b[0m\u001b[1;33m[\u001b[0m\u001b[0mi\u001b[0m\u001b[1;33m]\u001b[0m\u001b[1;33m)\u001b[0m\u001b[1;33m>\u001b[0m\u001b[0mS\u001b[0m\u001b[1;33m:\u001b[0m\u001b[1;33m\u001b[0m\u001b[1;33m\u001b[0m\u001b[0m\n\u001b[0;32m      9\u001b[0m                 \u001b[0mS\u001b[0m\u001b[1;33m=\u001b[0m\u001b[0mfloat\u001b[0m\u001b[1;33m(\u001b[0m\u001b[0mlst\u001b[0m\u001b[1;33m[\u001b[0m\u001b[0mi\u001b[0m\u001b[1;33m]\u001b[0m\u001b[1;33m)\u001b[0m\u001b[1;33m\u001b[0m\u001b[1;33m\u001b[0m\u001b[0m\n\u001b[1;32m---> 10\u001b[1;33m     \u001b[0mprint\u001b[0m\u001b[1;33m(\u001b[0m\u001b[0mint\u001b[0m\u001b[1;33m(\u001b[0m\u001b[0mS\u001b[0m\u001b[1;33m)\u001b[0m\u001b[1;33m)\u001b[0m\u001b[1;33m\u001b[0m\u001b[1;33m\u001b[0m\u001b[0m\n\u001b[0m\u001b[0;32m     11\u001b[0m \u001b[0mn\u001b[0m\u001b[1;33m=\u001b[0m\u001b[0mint\u001b[0m\u001b[1;33m(\u001b[0m\u001b[0minput\u001b[0m\u001b[1;33m(\u001b[0m\u001b[1;33m)\u001b[0m\u001b[1;33m)\u001b[0m\u001b[1;33m\u001b[0m\u001b[1;33m\u001b[0m\u001b[0m\n\u001b[0;32m     12\u001b[0m \u001b[0mlst\u001b[0m\u001b[1;33m=\u001b[0m\u001b[1;33m[\u001b[0m\u001b[0mint\u001b[0m\u001b[1;33m(\u001b[0m\u001b[0mx\u001b[0m\u001b[1;33m)\u001b[0m \u001b[1;32mfor\u001b[0m \u001b[0mx\u001b[0m \u001b[1;32min\u001b[0m \u001b[0minput\u001b[0m\u001b[1;33m(\u001b[0m\u001b[1;33m)\u001b[0m\u001b[1;33m.\u001b[0m\u001b[0msplit\u001b[0m\u001b[1;33m(\u001b[0m\u001b[1;33m)\u001b[0m\u001b[1;33m]\u001b[0m\u001b[1;33m\u001b[0m\u001b[1;33m\u001b[0m\u001b[0m\n",
      "\u001b[1;31mOverflowError\u001b[0m: cannot convert float infinity to integer"
     ]
    }
   ],
   "source": [
    "def second_largest(lst):\n",
    "    L=float('-inf')\n",
    "    S=float('-inf')\n",
    "    for i in range (len(lst)):\n",
    "        if float(lst[i])>L:\n",
    "            S=L\n",
    "        elif float(lst[i])<L:\n",
    "            if float(lst[i])>S:\n",
    "                S=float(lst[i])\n",
    "    print(int(S))\n",
    "n=int(input())\n",
    "lst=[int(x) for x in input().split()]\n",
    "second_largest(lst)\n"
   ]
  }
 ],
 "metadata": {
  "kernelspec": {
   "display_name": "Python 3",
   "language": "python",
   "name": "python3"
  },
  "language_info": {
   "codemirror_mode": {
    "name": "ipython",
    "version": 3
   },
   "file_extension": ".py",
   "mimetype": "text/x-python",
   "name": "python",
   "nbconvert_exporter": "python",
   "pygments_lexer": "ipython3",
   "version": "3.7.4"
  }
 },
 "nbformat": 4,
 "nbformat_minor": 2
}
