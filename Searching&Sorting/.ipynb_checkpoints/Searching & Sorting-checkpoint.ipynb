{
 "cells": [
  {
   "cell_type": "code",
   "execution_count": 1,
   "metadata": {},
   "outputs": [
    {
     "name": "stdout",
     "output_type": "stream",
     "text": [
      "4\n"
     ]
    }
   ],
   "source": [
    "def binarysearch(arr,element):\n",
    "    start=0\n",
    "    end=len(arr)-1\n",
    "    while (start<=end):\n",
    "        mid=(start+end)//2\n",
    "        if (arr[mid]==element):\n",
    "            return mid\n",
    "        elif (arr[mid]<element):\n",
    "            start=mid+1\n",
    "        else:\n",
    "            end=mid-1\n",
    "    return -1\n",
    "arr = [6,5,1,34,55,61,7,80]\n",
    "index=binarysearch(arr,55)\n",
    "print(index)"
   ]
  },
  {
   "cell_type": "code",
   "execution_count": 2,
   "metadata": {},
   "outputs": [
    {
     "name": "stdout",
     "output_type": "stream",
     "text": [
      "7\n",
      "1 3 7 9 11 12 45\n",
      "3\n",
      "1\n"
     ]
    }
   ],
   "source": [
    "def binarysearch(arr,element):\n",
    "    start=0\n",
    "    end=len(arr)-1\n",
    "    while (start<=end):\n",
    "        mid=(start+end)//2\n",
    "        if (arr[mid]==element):\n",
    "            return mid\n",
    "        elif (arr[mid]<element):\n",
    "            start=mid+1\n",
    "        else:\n",
    "            end=mid-1\n",
    "    return -1\n",
    "n=int(input())\n",
    "arr = [int(x) for x in input().split()]\n",
    "element=int(input())\n",
    "index=binarysearch(arr,element)\n",
    "print(index)"
   ]
  },
  {
   "cell_type": "markdown",
   "metadata": {},
   "source": [
    "### Selection Sort"
   ]
  },
  {
   "cell_type": "code",
   "execution_count": 4,
   "metadata": {},
   "outputs": [
    {
     "name": "stdout",
     "output_type": "stream",
     "text": [
      "[1, 2, 5, 9, 23, 45, 83, 98, 867]\n"
     ]
    }
   ],
   "source": [
    "def selectionSort(arr):\n",
    "    length=len(arr)\n",
    "    for i in range (length-1):\n",
    "        minIndex=i\n",
    "        for j in range (i+1,length):\n",
    "            if (arr[j] < arr[minIndex]):\n",
    "                minIndex = j\n",
    "        arr[i],arr[minIndex]=arr[minIndex],arr[i]\n",
    "\n",
    "arr=[5,45,867,1,9,23,98,2,83]\n",
    "selectionSort(arr)\n",
    "print(arr)"
   ]
  },
  {
   "cell_type": "markdown",
   "metadata": {},
   "source": [
    "### Bubble Sort"
   ]
  },
  {
   "cell_type": "code",
   "execution_count": 5,
   "metadata": {},
   "outputs": [
    {
     "name": "stdout",
     "output_type": "stream",
     "text": [
      "[1, 2, 5, 9, 23, 45, 83, 98, 867]\n"
     ]
    }
   ],
   "source": [
    "def bubbleSort(arr):\n",
    "    length=len(arr)\n",
    "    for i in range (length-1):\n",
    "        \n",
    "        for j in range (length-1-i):\n",
    "            if arr[j] > arr[j+1]:\n",
    "                arr[j] ,arr[j+1] = arr[j+1] ,arr[j]\n",
    "                \n",
    "arr=[5,45,867,1,9,23,98,2,83]\n",
    "bubbleSort(arr)\n",
    "print(arr)"
   ]
  },
  {
   "cell_type": "markdown",
   "metadata": {},
   "source": [
    "### Insertion Sort"
   ]
  },
  {
   "cell_type": "code",
   "execution_count": 7,
   "metadata": {},
   "outputs": [
    {
     "name": "stdout",
     "output_type": "stream",
     "text": [
      "[1, 2, 5, 9, 23, 45, 83, 98, 867]\n"
     ]
    }
   ],
   "source": [
    "def insertionSort(arr):\n",
    "    length=len(arr)\n",
    "    for i in range (1,length):\n",
    "        j=i-1\n",
    "        temp=arr[i]\n",
    "        while (j>=0 and arr[j]>temp):\n",
    "            arr[j+1]=arr[j]\n",
    "            j=j-1\n",
    "        arr[j+1]=temp\n",
    "arr=[5,45,867,1,9,23,98,2,83]\n",
    "insertionSort(arr)\n",
    "print(arr)"
   ]
  },
  {
   "cell_type": "markdown",
   "metadata": {},
   "source": [
    "### Merge two sorted array"
   ]
  },
  {
   "cell_type": "code",
   "execution_count": 8,
   "metadata": {},
   "outputs": [
    {
     "name": "stdout",
     "output_type": "stream",
     "text": [
      "[1, 2, 3, 4, 5, 6, 7, 8, 9, 10]\n"
     ]
    }
   ],
   "source": [
    "def mergedArr(arr1,arr2):\n",
    "    i=0\n",
    "    j=0\n",
    "    len1=len(arr1)\n",
    "    len2=len(arr2)\n",
    "    \n",
    "    arr=[]\n",
    "    while ((i<len1) and (j < len2)):\n",
    "        if (arr1[i]<arr2[j]):\n",
    "            arr.append(arr1[i])\n",
    "            i=i+1\n",
    "        else:\n",
    "            arr.append(arr2[j])\n",
    "            j=j+1\n",
    "    while (i<len1):\n",
    "        arr.append(arr1[i])\n",
    "        i=i+1\n",
    "    while (j<len2):\n",
    "        arr.append(arr2[j])\n",
    "        j=j+1\n",
    "    return arr\n",
    "arr1=[1,3,5,7,9]\n",
    "arr2=[2,4,6,8,10]\n",
    "arr=mergedArr(arr1,arr2)\n",
    "print(arr)"
   ]
  },
  {
   "cell_type": "markdown",
   "metadata": {},
   "source": [
    "### Practice"
   ]
  },
  {
   "cell_type": "code",
   "execution_count": 12,
   "metadata": {},
   "outputs": [
    {
     "name": "stdout",
     "output_type": "stream",
     "text": [
      "3\n",
      "0 1 2\n",
      "0 "
     ]
    }
   ],
   "source": [
    "def count(li):\n",
    "    \n",
    "    total_zero = 0\n",
    "    \n",
    "    for ele in li:\n",
    "        if ele == 0:\n",
    "            total_zero+=1\n",
    "        \n",
    "        \n",
    "    return [total_zero]\n",
    "\n",
    "n=int(input())\n",
    "li=[int(x) for x in input().split()]\n",
    "\n",
    "total_array=count(li)\n",
    "finalArray = []\n",
    "\n",
    "for i in range(total_array[0]):\n",
    "    finalArray.append(0)\n",
    "\n",
    "\n",
    "for x in finalArray:\n",
    "    print(x,end=\" \")"
   ]
  },
  {
   "cell_type": "code",
   "execution_count": null,
   "metadata": {},
   "outputs": [],
   "source": [
    "def secondLargest(arr):\n",
    "    max=max(arr[0],arr[1]) \n",
    "    secondmax=min(arr[0],arr[1]) \n",
    "    \n",
    "    for i in range(2,len(arr)):\n",
    "        \n",
    "        if arr[i]>max:\n",
    "            \n",
    "            secondmax=max\n",
    "            max=arr[i] \n",
    "        else: \n",
    "            if arr[i]>secondmax: \n",
    "                secondmax=list1[i] \n",
    "n=int(input())\n",
    "arr = [int(x) for x in input().split()]\n",
    "secondLargest(arr)\n",
    "print(arr)"
   ]
  }
 ],
 "metadata": {
  "kernelspec": {
   "display_name": "Python 3",
   "language": "python",
   "name": "python3"
  },
  "language_info": {
   "codemirror_mode": {
    "name": "ipython",
    "version": 3
   },
   "file_extension": ".py",
   "mimetype": "text/x-python",
   "name": "python",
   "nbconvert_exporter": "python",
   "pygments_lexer": "ipython3",
   "version": "3.7.4"
  }
 },
 "nbformat": 4,
 "nbformat_minor": 2
}
